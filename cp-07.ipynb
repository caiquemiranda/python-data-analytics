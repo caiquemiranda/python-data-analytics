{
 "cells": [
  {
   "cell_type": "markdown",
   "metadata": {},
   "source": [
    "### Estudos Miranda: Curso intensivo em Python e SciPy"
   ]
  },
  {
   "cell_type": "code",
   "execution_count": null,
   "metadata": {},
   "outputs": [],
   "source": [
    "%reload_ext watermark\n",
    "%watermark -a \"Caique Miranda\" -gu \"caiquemiranda\" -iv"
   ]
  },
  {
   "cell_type": "markdown",
   "metadata": {},
   "source": [
    "### Visualização de dados com matplotlib"
   ]
  },
  {
   "cell_type": "markdown",
   "metadata": {},
   "source": [
    "Depois de discutir nos capítulos anteriores as bibliotecas Python responsáveis pelos dados processamento, agora é a vez de você conhecer uma biblioteca que cuida da visualização. Esse biblioteca é matplotlib.\n",
    "\n",
    "\n",
    "A visualização de dados é muitas vezes subestimada na análise de dados, mas na verdade é uma fator muito importante porque a representação de dados incorreta ou ineficiente pode arruinar um caso contrário excelente análise. Neste capítulo, você descobrirá os vários aspectos do biblioteca matplotlib, incluindo como ela é estruturada e como maximizar o potencial que oferece."
   ]
  },
  {
   "cell_type": "markdown",
   "metadata": {},
   "source": [
    "#### Biblioteca matplotlib"
   ]
  },
  {
   "cell_type": "markdown",
   "metadata": {},
   "source": [
    "matplotlib é uma biblioteca Python especializada no desenvolvimento de gráficos bidimensionais gráficos (incluindo gráficos 3D). Nos últimos anos, tem sido difundido no meio científico e círculos de engenharia (http://matplolib.org).\n",
    "\n",
    "Entre todas as características que a tornaram a ferramenta mais utilizada na área gráfica representação de dados, há alguns que se destacam:\n",
    "\n",
    "• Extrema simplicidade na sua utilização\n",
    "• Desenvolvimento gradual e visualização interativa de dados\n",
    "• Expressões e texto em LaTeX\n",
    "• Maior controle sobre os elementos gráficos\n",
    "• Exporte para vários formatos, como PNG, PDF, SVG e EPS\n",
    "\n",
    "matplotlib é projetado para reproduzir tanto quanto possível um ambiente semelhante ao MATLAB em termos de visualização gráfica e forma sintática. Esta abordagem provou bem-sucedido, pois soube explorar a experiência do software (MATLAB) que está no mercado há vários anos e hoje é difundido em todos os profissionais técnico-científicos círculos. O matplotlib não é apenas baseado em um esquema conhecido e bastante familiar para a maioria dos especialistas na área, mas também explora as otimizações que ao longo dos anos levaram a uma dedutibilidade e simplicidade na sua utilização, o que torna esta biblioteca também uma excelente escolha para aqueles que abordam a visualização de dados pela primeira vez, especialmente aqueles sem nenhuma experiência com aplicativos como MATLAB ou similares."
   ]
  },
  {
   "cell_type": "markdown",
   "metadata": {},
   "source": [
    "Além da simplicidade e dedutibilidade, a biblioteca matplotlib herdou interatividade do MATLAB também. Ou seja, o analista pode inserir comando após comando para controlar o desenvolvimento gradual de uma representação gráfica de dados. Este modo é adequado para as abordagens mais interativas do Python como o IPython QtConsole e IPython Notebook (consulte o Capítulo 2), fornecendo assim um ambiente para análise de dados que tem pouco a invejar de outras ferramentas como Mathematica, IDL ou MATLAB."
   ]
  },
  {
   "cell_type": "markdown",
   "metadata": {},
   "source": [
    "A genialidade de quem desenvolveu esta bela biblioteca foi usar e incorporar as coisas boas atualmente disponíveis e em uso na ciência. Isso não é apenas limitado, como nós vimos, ao modo de operação do MATLAB e similares, mas também aos modelos de formatação de expressões científicas e símbolos representados pelo LaTeX. Por causa de sua grande capacidade de exibição e apresentação de expressões científicas, o LaTeX tem sido um elemento insubstituível em qualquer publicação ou documentação científica, onde a necessidade de representar visualmente expressões como integrais, somatórios e derivadas é obrigatório. \n",
    "\n",
    "Portanto matplotlib integra este notável instrumento para melhorar a capacidade representativa das cartas."
   ]
  },
  {
   "cell_type": "markdown",
   "metadata": {},
   "source": [
    "Além disso, você não deve esquecer que o matplotlib não é um aplicativo separado, mas uma biblioteca de uma linguagem de programação como Python. Portanto, também aproveita ao máximo o potencial que as linguagens de programação oferecem. matplotlib parece uma biblioteca de gráficos que permite gerenciar programaticamente os elementos gráficos que compõem um gráfico para que a exibição gráfica possa ser controlada em sua totalidade. A capacidade de programar a representação gráfica permite o gerenciamento da reprodutibilidade dos dados representação em vários ambientes e especialmente quando você faz alterações ou quando os dados são atualizados."
   ]
  },
  {
   "cell_type": "markdown",
   "metadata": {},
   "source": [
    "Além disso, como matplotlib é uma biblioteca Python, ela permite que você explore todo o potencial de outras bibliotecas disponíveis para qualquer desenvolvedor que implemente com esta linguagem. De fato, no que diz respeito à análise de dados, o matplotlib normalmente coopera com um conjunto de outras bibliotecas como NumPy e pandas, mas muitas outras bibliotecas podem ser integradas sem qualquer problema."
   ]
  },
  {
   "cell_type": "markdown",
   "metadata": {},
   "source": [
    "Finalmente, as representações gráficas obtidas através da codificação com esta biblioteca podem ser exportados nos formatos gráficos mais comuns (como PNG e SVG) e depois usados  em outras aplicações, documentação, páginas web, etc."
   ]
  },
  {
   "cell_type": "markdown",
   "metadata": {},
   "source": [
    "#### A arquitetura matplotlib"
   ]
  },
  {
   "cell_type": "markdown",
   "metadata": {},
   "source": [
    "Uma das principais tarefas que o matplotlib deve assumir é fornecer um conjunto de funções e ferramentas que permitem a representação e manipulação de uma Figura (o objeto principal), juntamente com todos os objetos internos de que é composto. No entanto, matplotlib não apenas lida com gráficos, mas também fornece todas as ferramentas para o tratamento de eventos e a capacidade de animar gráficos. Portanto, graças a esses recursos adicionais, o matplotlib prova ser capaz de produzindo gráficos interativos com base nos eventos acionados pressionando uma tecla no teclado ou no movimento do mouse."
   ]
  },
  {
   "cell_type": "markdown",
   "metadata": {},
   "source": [
    "A arquitetura do matplotlib é estruturada logicamente em três camadas, que são colocados em três níveis diferentes. A comunicação é unidirecional, ou seja, cada camada pode se comunicar com a camada subjacente, enquanto as camadas inferiores não pode se comunicar com os superiores."
   ]
  },
  {
   "cell_type": "markdown",
   "metadata": {},
   "source": [
    "As três camadas da arquitetura matplotlib\n",
    "\n",
    "As três camadas são as seguintes:\n",
    "\n",
    "• Scripts\n",
    "• Artista\n",
    "• Processo interno"
   ]
  },
  {
   "cell_type": "markdown",
   "metadata": {},
   "source": [
    "#### Camada de back-end"
   ]
  },
  {
   "cell_type": "markdown",
   "metadata": {},
   "source": [
    "No diagrama da arquitetura matplotlib, a camada que funciona no nível mais baixo é a camada Back-end. Essa camada contém as APIs matplotlib, um conjunto de classes que executam o papel de implementação dos elementos gráficos em um nível baixo.\n",
    "\n",
    "• FigureCanvas é o objeto que incorpora o conceito de área de desenho.\n",
    "• Renderer é o objeto que desenha no FigureCanvas.\n",
    "• Evento é o objeto que manipula as entradas do usuário (teclado e eventos do mouse)."
   ]
  },
  {
   "cell_type": "markdown",
   "metadata": {},
   "source": [
    "#### Camada do Artista"
   ]
  },
  {
   "cell_type": "markdown",
   "metadata": {},
   "source": [
    "Como camada intermediária, temos uma camada chamada Artista. Todos os elementos que compõem um gráfico, como título, rótulos de eixo, marcadores, etc., são instâncias do objeto Artista. Cada um de essas instâncias desempenham seu papel dentro de uma estrutura hierárquica\n",
    "\n",
    "Existem duas classes Artist: primitiva e composta.\n",
    "\n",
    "• Os artistas primitivos são objetos individuais que constituem a base elementos para formar uma representação gráfica em um gráfico, por exemplo, um Line2D, ou como uma figura geométrica como um retângulo ou círculo, ou mesmo pedaços de texto.\n",
    "\n",
    "• Os artistas compostos são aqueles elementos gráficos presentes em um gráfico que são compostos por vários elementos de base, a saber, o primitivo artistas. Os artistas compostos são, por exemplo, o Axis, Ticks, Axes e Figuras"
   ]
  },
  {
   "cell_type": "markdown",
   "metadata": {},
   "source": [
    "Geralmente, trabalhando neste nível você terá que lidar frequentemente com objetos em níveis mais altos\n",
    "hierarquia como Figura, Eixos e Eixo. Portanto, é importante entender completamente o que esses\n",
    "objetos são e qual o papel que eles desempenham dentro da representação gráfica. Figura 7-4\n",
    "mostra os três principais objetos Artist (artistas compostos) que geralmente são usados em todos\n",
    "implementações realizadas neste nível."
   ]
  },
  {
   "cell_type": "markdown",
   "metadata": {},
   "source": [
    "• Figura é o objeto com o nível mais alto na hierarquia. Isto\n",
    "corresponde a toda a representação gráfica e geralmente pode\n",
    "contém muitos eixos.\n",
    "\n",
    "• Eixos é geralmente o que você quer dizer com plotagem ou gráfico. Cada objeto do eixo pertence a apenas uma Figura, e é caracterizada por dois Eixos Artísticos (três no caso tridimensional). Outros objetos, como o título, o rótulo x e o rótulo y pertencem a este artista composto.\n",
    "\n",
    "• Objetos de eixo que levam em consideração os valores numéricos a serem representados em Eixos, definir os limites e gerenciar os ticks (o marca nos eixos) e rótulos de escala (o texto do rótulo representado em cada marcação). A posição do tick é ajustada por um objeto chamado Locator enquanto o rótulo do tick de formatação é regulado por um objeto chamado Formatador."
   ]
  },
  {
   "cell_type": "markdown",
   "metadata": {},
   "source": [
    "#### Camada de script (pyplot)"
   ]
  },
  {
   "cell_type": "markdown",
   "metadata": {},
   "source": [
    "As classes Artist e suas funções relacionadas (a API matplotlib) são particularmente adequadas para todos os desenvolvedores, especialmente para aqueles que trabalham em servidores de aplicativos da Web ou desenvolvem a GUI. Mas para fins de cálculo e, em particular, para análise e visualização\n",
    "de dados, a camada de script é a melhor. Essa camada consiste em uma interface chamada pyplot."
   ]
  },
  {
   "cell_type": "markdown",
   "metadata": {},
   "source": [
    "#### pylab and pyplot"
   ]
  },
  {
   "cell_type": "markdown",
   "metadata": {},
   "source": [
    "Em geral, fala-se de pylab e pyplot. Mas qual é a diferença entre esses\n",
    "dois pacotes? Pylab é um módulo instalado junto com matplotlib, enquanto pyplot\n",
    "é um módulo interno do matplotlib. Muitas vezes você encontrará referências a um ou outro\n",
    "abordagem."
   ]
  },
  {
   "cell_type": "code",
   "execution_count": null,
   "metadata": {},
   "outputs": [],
   "source": [
    "from pylab import *\n",
    "#and\n",
    "import matplotlib.pyplot as plt\n",
    "import numpy as np"
   ]
  },
  {
   "cell_type": "markdown",
   "metadata": {},
   "source": [
    "Pylab combines the functionality of pyplot with the capabilities of NumPy in a single\n",
    "namespace, and therefore you do not need to import NumPy separately. Furthermore,\n",
    "if you import pylab, pyplot and NumPy functions can be called directly without any\n",
    "reference to a module (namespace), making the environment more similar to MATLAB."
   ]
  },
  {
   "cell_type": "code",
   "execution_count": null,
   "metadata": {},
   "outputs": [],
   "source": [
    "plot(x,y)\n",
    "array([1,2,3,4])\n",
    "# Instead of\n",
    "plt.plot()\n",
    "np.array([1,2,3,4]"
   ]
  },
  {
   "cell_type": "markdown",
   "metadata": {},
   "source": [
    "The pyplot package provides the classic Python interface for programming the\n",
    "matplotlib library, has its own namespace, and requires the import of the NumPy\n",
    "package separately. This approach is the one chosen for this book; it is the main topic of\n",
    "this chapter; and it will be used for the rest of the book. In fact this choice is shared and\n",
    "approved by most Python developers."
   ]
  },
  {
   "cell_type": "markdown",
   "metadata": {},
   "source": [
    "---"
   ]
  },
  {
   "attachments": {},
   "cell_type": "markdown",
   "metadata": {},
   "source": [
    "### Fim."
   ]
  }
 ],
 "metadata": {
  "language_info": {
   "name": "python"
  },
  "orig_nbformat": 4
 },
 "nbformat": 4,
 "nbformat_minor": 2
}
