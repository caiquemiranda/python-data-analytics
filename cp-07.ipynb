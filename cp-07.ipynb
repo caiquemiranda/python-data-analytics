{
 "cells": [
  {
   "cell_type": "markdown",
   "metadata": {},
   "source": [
    "### Estudos Miranda: Curso intensivo em Python e SciPy"
   ]
  },
  {
   "cell_type": "code",
   "execution_count": null,
   "metadata": {},
   "outputs": [],
   "source": [
    "%reload_ext watermark\n",
    "%watermark -a \"Caique Miranda\" -gu \"caiquemiranda\" -iv"
   ]
  },
  {
   "cell_type": "markdown",
   "metadata": {},
   "source": [
    "### Visualização de dados com matplotlib"
   ]
  },
  {
   "cell_type": "markdown",
   "metadata": {},
   "source": [
    "Depois de discutir nos capítulos anteriores as bibliotecas Python responsáveis pelos dados processamento, agora é a vez de você conhecer uma biblioteca que cuida da visualização. Esse biblioteca é matplotlib.\n",
    "\n",
    "\n",
    "A visualização de dados é muitas vezes subestimada na análise de dados, mas na verdade é uma fator muito importante porque a representação de dados incorreta ou ineficiente pode arruinar um caso contrário excelente análise. Neste capítulo, você descobrirá os vários aspectos do biblioteca matplotlib, incluindo como ela é estruturada e como maximizar o potencial que oferece."
   ]
  },
  {
   "cell_type": "markdown",
   "metadata": {},
   "source": [
    "#### Biblioteca matplotlib"
   ]
  },
  {
   "cell_type": "markdown",
   "metadata": {},
   "source": [
    "matplotlib é uma biblioteca Python especializada no desenvolvimento de gráficos bidimensionais gráficos (incluindo gráficos 3D). Nos últimos anos, tem sido difundido no meio científico e círculos de engenharia (http://matplolib.org).\n",
    "\n",
    "Entre todas as características que a tornaram a ferramenta mais utilizada na área gráfica representação de dados, há alguns que se destacam:\n",
    "\n",
    "• Extrema simplicidade na sua utilização\n",
    "• Desenvolvimento gradual e visualização interativa de dados\n",
    "• Expressões e texto em LaTeX\n",
    "• Maior controle sobre os elementos gráficos\n",
    "• Exporte para vários formatos, como PNG, PDF, SVG e EPS\n",
    "\n",
    "matplotlib é projetado para reproduzir tanto quanto possível um ambiente semelhante ao MATLAB em termos de visualização gráfica e forma sintática. Esta abordagem provou bem-sucedido, pois soube explorar a experiência do software (MATLAB) que está no mercado há vários anos e hoje é difundido em todos os profissionais técnico-científicos círculos. O matplotlib não é apenas baseado em um esquema conhecido e bastante familiar para a maioria dos especialistas na área, mas também explora as otimizações que ao longo dos anos levaram a uma dedutibilidade e simplicidade na sua utilização, o que torna esta biblioteca também uma excelente escolha para aqueles que abordam a visualização de dados pela primeira vez, especialmente aqueles sem nenhuma experiência com aplicativos como MATLAB ou similares."
   ]
  },
  {
   "cell_type": "markdown",
   "metadata": {},
   "source": [
    "Além da simplicidade e dedutibilidade, a biblioteca matplotlib herdou interatividade do MATLAB também. Ou seja, o analista pode inserir comando após comando para controlar o desenvolvimento gradual de uma representação gráfica de dados. Este modo é adequado para as abordagens mais interativas do Python como o IPython QtConsole e IPython Notebook (consulte o Capítulo 2), fornecendo assim um ambiente para análise de dados que tem pouco a invejar de outras ferramentas como Mathematica, IDL ou MATLAB."
   ]
  },
  {
   "cell_type": "markdown",
   "metadata": {},
   "source": [
    "A genialidade de quem desenvolveu esta bela biblioteca foi usar e incorporar as coisas boas atualmente disponíveis e em uso na ciência. Isso não é apenas limitado, como nós vimos, ao modo de operação do MATLAB e similares, mas também aos modelos de formatação de expressões científicas e símbolos representados pelo LaTeX. Por causa de sua grande capacidade de exibição e apresentação de expressões científicas, o LaTeX tem sido um elemento insubstituível em qualquer publicação ou documentação científica, onde a necessidade de representar visualmente expressões como integrais, somatórios e derivadas é obrigatório. \n",
    "\n",
    "Portanto matplotlib integra este notável instrumento para melhorar a capacidade representativa das cartas."
   ]
  },
  {
   "cell_type": "markdown",
   "metadata": {},
   "source": [
    "Além disso, você não deve esquecer que o matplotlib não é um aplicativo separado, mas uma biblioteca de uma linguagem de programação como Python. Portanto, também aproveita ao máximo o potencial que as linguagens de programação oferecem. matplotlib parece uma biblioteca de gráficos que permite gerenciar programaticamente os elementos gráficos que compõem um gráfico para que a exibição gráfica possa ser controlada em sua totalidade. A capacidade de programar a representação gráfica permite o gerenciamento da reprodutibilidade dos dados representação em vários ambientes e especialmente quando você faz alterações ou quando os dados são atualizados."
   ]
  },
  {
   "cell_type": "markdown",
   "metadata": {},
   "source": [
    "Além disso, como matplotlib é uma biblioteca Python, ela permite que você explore todo o potencial de outras bibliotecas disponíveis para qualquer desenvolvedor que implemente com esta linguagem. De fato, no que diz respeito à análise de dados, o matplotlib normalmente coopera com um conjunto de outras bibliotecas como NumPy e pandas, mas muitas outras bibliotecas podem ser integradas sem qualquer problema."
   ]
  },
  {
   "cell_type": "markdown",
   "metadata": {},
   "source": [
    "Finalmente, as representações gráficas obtidas através da codificação com esta biblioteca podem ser exportados nos formatos gráficos mais comuns (como PNG e SVG) e depois usados  em outras aplicações, documentação, páginas web, etc."
   ]
  },
  {
   "cell_type": "markdown",
   "metadata": {},
   "source": [
    "#### A arquitetura matplotlib"
   ]
  },
  {
   "cell_type": "markdown",
   "metadata": {},
   "source": [
    "Uma das principais tarefas que o matplotlib deve assumir é fornecer um conjunto de funções e ferramentas que permitem a representação e manipulação de uma Figura (o objeto principal), juntamente com todos os objetos internos de que é composto. No entanto, matplotlib não apenas lida com gráficos, mas também fornece todas as ferramentas para o tratamento de eventos e a capacidade de animar gráficos. Portanto, graças a esses recursos adicionais, o matplotlib prova ser capaz de produzindo gráficos interativos com base nos eventos acionados pressionando uma tecla no teclado ou no movimento do mouse."
   ]
  },
  {
   "cell_type": "markdown",
   "metadata": {},
   "source": [
    "A arquitetura do matplotlib é estruturada logicamente em três camadas, que são colocados em três níveis diferentes. A comunicação é unidirecional, ou seja, cada camada pode se comunicar com a camada subjacente, enquanto as camadas inferiores não pode se comunicar com os superiores."
   ]
  },
  {
   "cell_type": "markdown",
   "metadata": {},
   "source": [
    "As três camadas da arquitetura matplotlib\n",
    "\n",
    "As três camadas são as seguintes:\n",
    "\n",
    "• Scripts\n",
    "• Artista\n",
    "• Processo interno"
   ]
  },
  {
   "cell_type": "markdown",
   "metadata": {},
   "source": [
    "#### Camada de back-end"
   ]
  },
  {
   "cell_type": "markdown",
   "metadata": {},
   "source": [
    "No diagrama da arquitetura matplotlib, a camada que funciona no nível mais baixo é a camada Back-end. Essa camada contém as APIs matplotlib, um conjunto de classes que executam o papel de implementação dos elementos gráficos em um nível baixo.\n",
    "\n",
    "• FigureCanvas é o objeto que incorpora o conceito de área de desenho.\n",
    "• Renderer é o objeto que desenha no FigureCanvas.\n",
    "• Evento é o objeto que manipula as entradas do usuário (teclado e eventos do mouse)."
   ]
  },
  {
   "cell_type": "markdown",
   "metadata": {},
   "source": [
    "#### Camada do Artista"
   ]
  },
  {
   "cell_type": "markdown",
   "metadata": {},
   "source": [
    "Como camada intermediária, temos uma camada chamada Artista. Todos os elementos que compõem um gráfico, como título, rótulos de eixo, marcadores, etc., são instâncias do objeto Artista. Cada um de essas instâncias desempenham seu papel dentro de uma estrutura hierárquica\n",
    "\n",
    "Existem duas classes Artist: primitiva e composta.\n",
    "\n",
    "• Os artistas primitivos são objetos individuais que constituem a base elementos para formar uma representação gráfica em um gráfico, por exemplo, um Line2D, ou como uma figura geométrica como um retângulo ou círculo, ou mesmo pedaços de texto.\n",
    "\n",
    "• Os artistas compostos são aqueles elementos gráficos presentes em um gráfico que são compostos por vários elementos de base, a saber, o primitivo artistas. Os artistas compostos são, por exemplo, o Axis, Ticks, Axes e Figuras"
   ]
  },
  {
   "cell_type": "markdown",
   "metadata": {},
   "source": [
    "Geralmente, trabalhando neste nível você terá que lidar frequentemente com objetos em níveis mais altos\n",
    "hierarquia como Figura, Eixos e Eixo. Portanto, é importante entender completamente o que esses\n",
    "objetos são e qual o papel que eles desempenham dentro da representação gráfica. Figura 7-4\n",
    "mostra os três principais objetos Artist (artistas compostos) que geralmente são usados em todos\n",
    "implementações realizadas neste nível."
   ]
  },
  {
   "cell_type": "markdown",
   "metadata": {},
   "source": [
    "• Figura é o objeto com o nível mais alto na hierarquia. Isto\n",
    "corresponde a toda a representação gráfica e geralmente pode\n",
    "contém muitos eixos.\n",
    "\n",
    "• Eixos é geralmente o que você quer dizer com plotagem ou gráfico. Cada objeto do eixo pertence a apenas uma Figura, e é caracterizada por dois Eixos Artísticos (três no caso tridimensional). Outros objetos, como o título, o rótulo x e o rótulo y pertencem a este artista composto.\n",
    "\n",
    "• Objetos de eixo que levam em consideração os valores numéricos a serem representados em Eixos, definir os limites e gerenciar os ticks (o marca nos eixos) e rótulos de escala (o texto do rótulo representado em cada marcação). A posição do tick é ajustada por um objeto chamado Locator enquanto o rótulo do tick de formatação é regulado por um objeto chamado Formatador."
   ]
  },
  {
   "cell_type": "markdown",
   "metadata": {},
   "source": [
    "#### Camada de script (pyplot)"
   ]
  },
  {
   "cell_type": "markdown",
   "metadata": {},
   "source": [
    "As classes Artist e suas funções relacionadas (a API matplotlib) são particularmente adequadas para todos os desenvolvedores, especialmente para aqueles que trabalham em servidores de aplicativos da Web ou desenvolvem a GUI. Mas para fins de cálculo e, em particular, para análise e visualização de dados, a camada de script é a melhor. Essa camada consiste em uma interface chamada pyplot."
   ]
  },
  {
   "cell_type": "markdown",
   "metadata": {},
   "source": [
    "#### pylab and pyplot"
   ]
  },
  {
   "cell_type": "markdown",
   "metadata": {},
   "source": [
    "Em geral, fala-se de pylab e pyplot. Mas qual é a diferença entre esses dois pacotes? Pylab é um módulo instalado junto com matplotlib, enquanto pyplot é um módulo interno do matplotlib. Muitas vezes você encontrará referências a um ou outro abordagem."
   ]
  },
  {
   "cell_type": "code",
   "execution_count": null,
   "metadata": {},
   "outputs": [],
   "source": [
    "from pylab import *\n",
    "#and\n",
    "import matplotlib.pyplot as plt\n",
    "import numpy as np"
   ]
  },
  {
   "cell_type": "markdown",
   "metadata": {},
   "source": [
    "O Pylab combina a funcionalidade do pyplot com os recursos do NumPy em um único namespace e, portanto, você não precisa importar o NumPy separadamente. Além disso, se você importar as funções pylab, pyplot e NumPy podem ser chamadas diretamente sem qualquer referência a um módulo (namespace), tornando o ambiente mais semelhante ao MATLAB."
   ]
  },
  {
   "cell_type": "code",
   "execution_count": null,
   "metadata": {},
   "outputs": [],
   "source": [
    "plot(x,y)\n",
    "array([1,2,3,4])\n",
    "# Instead of\n",
    "plt.plot()\n",
    "np.array([1,2,3,4])"
   ]
  },
  {
   "cell_type": "markdown",
   "metadata": {},
   "source": [
    "O pacote pyplot fornece a interface Python clássica para programar o biblioteca matplotlib, tem seu próprio namespace e requer a importação do NumPy pacote separadamente. Essa abordagem é a escolhida para este livro; é o assunto principal este capítulo; e será usado para o resto do livro. Na verdade, essa escolha é compartilhada e aprovado pela maioria dos desenvolvedores Python."
   ]
  },
  {
   "cell_type": "markdown",
   "metadata": {},
   "source": [
    "#### pyplot"
   ]
  },
  {
   "cell_type": "markdown",
   "metadata": {},
   "source": [
    "O módulo pyplot é uma coleção de funções de estilo de comando que permitem que você use\n",
    "matplotlib muito parecido com o MATLAB. Cada função pyplot irá operar ou fazer algumas alterações\n",
    "ao objeto Figura, por exemplo, a criação da própria Figura, a criação de um\n",
    "área de plotagem, representação de uma linha, decoração da plotagem com uma etiqueta, etc.\n",
    "\n",
    "Pyplot também é stateful, pois rastreia o status da figura atual e sua plotagem\n",
    "área. As funções chamadas agem sobre a figura atual."
   ]
  },
  {
   "cell_type": "markdown",
   "metadata": {},
   "source": [
    "#### Um gráfico interativo simples"
   ]
  },
  {
   "cell_type": "markdown",
   "metadata": {},
   "source": [
    "Para se familiarizar com a biblioteca matplotlib e de forma particular com o Pyplot, você irá\n",
    "comece a criar um gráfico interativo simples. Usando matplotlib, esta operação é muito simples;\n",
    "na verdade, você pode alcançá-lo usando apenas três linhas de código.\n",
    "\n",
    "Mas primeiro você precisa importar o pacote pyplot e renomeá-lo como plt."
   ]
  },
  {
   "cell_type": "code",
   "execution_count": null,
   "metadata": {},
   "outputs": [],
   "source": [
    "import matplotlib.pyplot as plt"
   ]
  },
  {
   "cell_type": "markdown",
   "metadata": {},
   "source": [
    "Em Python, os construtores geralmente não são necessários; já está tudo\n",
    "definido implicitamente. Na verdade, quando você importa o pacote, o objeto plt com todos os seus\n",
    "recursos gráficos já foram instanciados e prontos para uso. Na verdade, você simplesmente\n",
    "use a função plot() para passar os valores a serem plotados."
   ]
  },
  {
   "cell_type": "markdown",
   "metadata": {},
   "source": [
    "Assim, você pode simplesmente passar os valores que deseja representar como uma sequência de\n",
    "inteiros."
   ]
  },
  {
   "cell_type": "code",
   "execution_count": null,
   "metadata": {},
   "outputs": [],
   "source": [
    "plt.plot([1,2,3,4])"
   ]
  },
  {
   "cell_type": "markdown",
   "metadata": {},
   "source": [
    "Como você pode ver, um objeto Line2D foi gerado. O objeto é uma linha que\n",
    "representa a tendência linear dos pontos incluídos no gráfico.\n",
    "\n",
    "Agora está tudo pronto. Você só precisa dar o comando para mostrar o gráfico usando o show()\n",
    "função."
   ]
  },
  {
   "cell_type": "code",
   "execution_count": null,
   "metadata": {},
   "outputs": [],
   "source": [
    "plt.show()"
   ]
  },
  {
   "cell_type": "markdown",
   "metadata": {},
   "source": [
    "O resultado será o mostrado na Figura 7-5. Parece apenas uma janela, chamada de\n",
    "janela de plotagem, com uma barra de ferramentas e a plotagem representada dentro dela, assim como no MATLAB."
   ]
  },
  {
   "cell_type": "markdown",
   "metadata": {},
   "source": [
    "#### A Janela de Plotagem"
   ]
  },
  {
   "cell_type": "code",
   "execution_count": null,
   "metadata": {},
   "outputs": [],
   "source": [
    "import matplotlib.pyplot as plt\n",
    "plt.plot([1,2,3,4])\n",
    "plt.show()"
   ]
  },
  {
   "cell_type": "markdown",
   "metadata": {},
   "source": [
    "Se você estiver usando o IPython QtConsole, deve ter notado que após chamar o\n",
    "função plot() o gráfico é exibido diretamente sem invocar explicitamente o show()\n",
    "função."
   ]
  },
  {
   "cell_type": "markdown",
   "metadata": {},
   "source": [
    "Se você passar apenas uma lista de números ou um array para a função plt.plot(), matplotlib\n",
    "assume que é a sequência de valores y do gráfico, e os associa ao natural\n",
    "seqüência de valores x: 0,1,2,3, ... ."
   ]
  },
  {
   "cell_type": "markdown",
   "metadata": {},
   "source": [
    "Geralmente, um gráfico representa pares de valores (x, y), portanto, se você quiser definir um gráfico\n",
    "corretamente, você deve definir duas matrizes, a primeira contendo os valores no eixo x e\n",
    "o segundo contendo os valores no eixo y. Além disso, a função plot() pode\n",
    "aceite um terceiro argumento, que descreve as especificidades de como você deseja que o ponto seja\n",
    "representado no gráfico."
   ]
  },
  {
   "cell_type": "markdown",
   "metadata": {},
   "source": [
    "#### Defina as propriedades do gráfico"
   ]
  },
  {
   "cell_type": "markdown",
   "metadata": {},
   "source": [
    "Os pontos foram representados por uma linha azul. Na verdade, se você fizer\n",
    "não especifique o contrário, o gráfico é representado levando em consideração uma configuração padrão\n",
    "da função plt.plot():\n",
    "\n",
    "• O tamanho dos eixos corresponde perfeitamente ao intervalo dos dados de entrada\n",
    "• Não há título nem rótulos de eixo\n",
    "• Não há legenda\n",
    "• Uma linha azul conectando os pontos é desenhada\n",
    "\n",
    "Portanto, você precisa alterar essa representação para ter uma trama real em que cada\n",
    "par de valores (x, y) é representado por um ponto vermelho.\n",
    "\n",
    "Se você estiver trabalhando no IPython, feche a janela para voltar ao prompt ativo para\n",
    "digitando novos comandos. Então você tem que chamar de volta a função show () para observar o\n",
    "mudanças feitas na trama."
   ]
  },
  {
   "cell_type": "code",
   "execution_count": null,
   "metadata": {},
   "outputs": [],
   "source": [
    "plt.plot([1,2,3,4],[1,4,9,16],'ro')\n",
    "plt.show()"
   ]
  },
  {
   "cell_type": "markdown",
   "metadata": {},
   "source": [
    "Em vez disso, se você estiver trabalhando no Jupyter QtConsole, verá um gráfico diferente para cada novo\n",
    "comando que você digita."
   ]
  },
  {
   "cell_type": "markdown",
   "metadata": {},
   "source": [
    "Você pode definir o intervalo no eixo x e no eixo y definindo os detalhes\n",
    "de uma lista [xmin, xmax, ymin, ymax] e, em seguida, passando-o como um argumento para o axis()\n",
    "função."
   ]
  },
  {
   "cell_type": "markdown",
   "metadata": {},
   "source": [
    "Você pode definir várias propriedades, uma das quais é o título que pode ser inserido usando o\n",
    "função título()."
   ]
  },
  {
   "cell_type": "code",
   "execution_count": null,
   "metadata": {},
   "outputs": [],
   "source": [
    "plt.axis([0,5,0,20])\n",
    "plt.title('My first plot')\n",
    "plt.plot([1,2,3,4],[1,4,9,16],'ro')"
   ]
  },
  {
   "cell_type": "markdown",
   "metadata": {},
   "source": [
    "Em fato, os pontos finais do conjunto de dados agora são representados dentro do gráfico, em vez de no\n",
    "arestas. Além disso, o título do gráfico agora está visível na parte superior."
   ]
  },
  {
   "cell_type": "markdown",
   "metadata": {},
   "source": [
    "#### matplotlib and NumPy"
   ]
  },
  {
   "cell_type": "markdown",
   "metadata": {},
   "source": [
    "Mesmo a biblioteca matplot, apesar de ser uma biblioteca totalmente gráfica, tem sua base como\n",
    "a biblioteca NumPy. Na verdade, você viu até agora como passar listas como argumentos, tanto para\n",
    "representar os dados e definir os extremos dos eixos. Na verdade, essas listas foram\n",
    "convertido internamente em matrizes NumPy.\n",
    "\n",
    "Portanto, você pode inserir matrizes NumPy diretamente como dados de entrada. Essa matriz de dados,\n",
    "que foram processados por pandas, podem ser usados diretamente com matplotlib sem\n",
    "processamento adicional.\n",
    "\n",
    "Como exemplo, você vê como é possível traçar três tendências diferentes no mesmo\n",
    "gráfico (veja a Figura 7-9). Você pode escolher para este exemplo a função sin() pertencente a\n",
    "o módulo de matemática. Portanto, você precisará importá-lo. Para gerar pontos seguindo uma senoidal\n",
    "tendência, você usará a biblioteca NumPy. Gere uma série de pontos no eixo x usando o\n",
    "arange(), enquanto para os valores no eixo y você usará a função map() para\n",
    "aplique a função sin() em todos os itens do array (sem usar um loop for)."
   ]
  },
  {
   "cell_type": "code",
   "execution_count": null,
   "metadata": {},
   "outputs": [],
   "source": [
    "import math\n",
    "import numpy as np\n",
    "\n",
    "t = np.arange(0,2.5,0.1)\n",
    "y1 = np.sin(math.pi*t)\n",
    "y2 = np.sin(math.pi*t+math.pi/2)\n",
    "y3 = np.sin(math.pi*t-math.pi/2)\n",
    "plt.plot(t,y1,'b*',t,y2,'g^',t,y3,'ys')"
   ]
  },
  {
   "cell_type": "markdown",
   "metadata": {},
   "source": [
    "Como você pode ver na Figura 7-9, o gráfico representa as três diferentes tendências temporais\n",
    "com três cores e marcadores diferentes. Nesses casos, quando a tendência de uma função é\n",
    "tão óbvio, o enredo talvez não seja a representação mais adequada, mas é melhor\n",
    "para usar as linhas (consulte a Figura 7-10). Para diferenciar as três tendências com algo diferente\n",
    "do que a cor, você pode usar o padrão composto por diferentes combinações de pontos e\n",
    "traços (- e .)."
   ]
  },
  {
   "cell_type": "code",
   "execution_count": null,
   "metadata": {},
   "outputs": [],
   "source": [
    "plt.plot(t,y1,'b--',t,y2,'g',t,y3,'r-.')"
   ]
  },
  {
   "cell_type": "markdown",
   "metadata": {},
   "source": [
    "#### Usando os kwargs"
   ]
  },
  {
   "cell_type": "markdown",
   "metadata": {},
   "source": [
    "Os objetos que compõem um gráfico possuem muitos atributos que os caracterizam. Esses\n",
    "todos os atributos são valores padrão, mas podem ser definidos por meio do uso de argumentos de palavra-chave, geralmente\n",
    "referidos como kwargs.\n",
    "\n",
    "Essas palavras-chave são passadas como argumentos para funções. Na documentação de referência\n",
    "das várias funções da biblioteca matplotlib, você sempre as encontrará referidas como\n",
    "kwargs na última posição. Por exemplo, a função plot() que você está usando nestes\n",
    "exemplos é referido da seguinte forma."
   ]
  },
  {
   "cell_type": "code",
   "execution_count": null,
   "metadata": {},
   "outputs": [],
   "source": [
    "matplotlib.pyplot.plot(*args, **kwargs)"
   ]
  },
  {
   "cell_type": "code",
   "execution_count": null,
   "metadata": {},
   "outputs": [],
   "source": [
    "plt.plot([1,2,4,2,1,0,1,2,1,4],linewidth=2.0)"
   ]
  },
  {
   "cell_type": "markdown",
   "metadata": {},
   "source": [
    "#### Trabalhando com várias figuras e eixos"
   ]
  },
  {
   "cell_type": "markdown",
   "metadata": {},
   "source": [
    "Até agora você viu como todos os comandos pyplot são roteados para a exibição de uma única figura.\n",
    "Na verdade, o matplotlib permite que você gerencie várias figuras simultaneamente e dentro\n",
    "cada figura, oferece a possibilidade de visualizar diferentes parcelas definidas como subparcelas.\n",
    "\n",
    "Portanto, ao trabalhar com pyplot, você deve sempre ter em mente o conceito de\n",
    "a figura atual e os eixos atuais (ou seja, o gráfico mostrado na figura).\n",
    "\n",
    "Agora você verá um exemplo onde duas subparcelas são representadas em uma única figura.\n",
    "A função subplot(), além de subdividir a figura em diferentes áreas de desenho,\n",
    "é usado para focar os comandos em uma subtrama específica.\n",
    "\n",
    "O argumento passado para a função subplot() define o modo de subdivisão e\n",
    "determina qual é a subtrama atual. A subtrama atual será a única figura\n",
    "que serão afetados pelos comandos. O argumento da função subplot() é\n",
    "composta por três números inteiros. O primeiro número define em quantas partes a figura é dividida\n",
    "na vertical. O segundo número define em quantas partes a figura é dividida\n",
    "horizontalmente. A terceira questão seleciona qual é a subtrama atual na qual você pode direcionar\n",
    "comandos.\n",
    "\n",
    "Agora você exibirá duas tendências senoidais (seno e cosseno) e a melhor maneira de fazer\n",
    "ou seja, dividir a tela verticalmente em duas subparcelas horizontais (conforme mostrado na Figura 7-12).\n",
    "Portanto, os números a serem passados como argumento são 211 e 212."
   ]
  },
  {
   "cell_type": "code",
   "execution_count": null,
   "metadata": {},
   "outputs": [],
   "source": [
    "t = np.arange(0,5,0.1)\n",
    "y1 = np.sin(2*np.pi*t)\n",
    "y2 = np.sin(2*np.pi*t)\n",
    "\n",
    "plt.subplot(211)\n",
    "plt.plot(t,y1,'b-.')\n",
    "plt.subplot(212)\n",
    "plt.plot(t,y2,'r--')"
   ]
  },
  {
   "cell_type": "markdown",
   "metadata": {},
   "source": [
    "Agora você faz a mesma coisa dividindo a figura em duas subtramas verticais. O\n",
    "os números a serem passados como argumentos para a função subplot() são 121 e 122\n",
    "(conforme mostrado na Figura 7-13)."
   ]
  },
  {
   "cell_type": "code",
   "execution_count": null,
   "metadata": {},
   "outputs": [],
   "source": [
    "t = np.arange(0.,1.,0.05)\n",
    "y1 = np.sin(2*np.pi*t)\n",
    "y2 = np.cos(2*np.pi*t)\n",
    "\n",
    "plt.subplot(121)\n",
    "plt.plot(t,y1,'b-.')\n",
    "plt.subplot(122)\n",
    "plt.plot(t,y2,'r--')"
   ]
  },
  {
   "cell_type": "markdown",
   "metadata": {},
   "source": [
    "#### Adicionando elementos ao gráfico"
   ]
  },
  {
   "cell_type": "markdown",
   "metadata": {},
   "source": [
    "Para tornar um gráfico mais informativo, muitas vezes não basta representar o\n",
    "dados usando linhas ou marcadores e atribua o intervalo de valores usando dois eixos. Na verdade, lá\n",
    "muitos outros elementos que podem ser adicionados a um gráfico para enriquecê-lo com\n",
    "Informação.\n",
    "\n",
    "Nesta seção, você verá como adicionar elementos ao gráfico como rótulos de texto, uma legenda,\n",
    "e assim por diante."
   ]
  },
  {
   "cell_type": "markdown",
   "metadata": {},
   "source": [
    "#### Adicionando texto"
   ]
  },
  {
   "cell_type": "markdown",
   "metadata": {},
   "source": [
    "Você já viu como adicionar o título a um gráfico com a função title(). Dois\n",
    "outras indicações textuais, você pode adicionar os rótulos dos eixos. Isso é possível através do uso de\n",
    "duas outras funções específicas, chamadas xlabel() e ylabel(). Estas funções assumem como\n",
    "argumento uma string, que será o texto mostrado."
   ]
  },
  {
   "cell_type": "markdown",
   "metadata": {},
   "source": [
    "Agora adicione dois rótulos de eixo ao gráfico. Eles irão descrever que tipo de valor é\n",
    "atribuído a cada eixo"
   ]
  },
  {
   "cell_type": "code",
   "execution_count": null,
   "metadata": {},
   "outputs": [],
   "source": [
    "plt.axis([0,5,0,20])\n",
    "plt.title('My first plot')\n",
    "plt.xlabel('Counting')\n",
    "plt.ylabel('Square values')\n",
    "plt.plot([1,2,3,4],[1,4,9,16],'ro')"
   ]
  },
  {
   "cell_type": "markdown",
   "metadata": {},
   "source": [
    "Graças às palavras-chave, você pode alterar as características do texto. Por exemplo,\n",
    "você pode modificar o título alterando a fonte e aumentando o tamanho dos caracteres.\n",
    "Você também pode modificar a cor dos rótulos dos eixos para acentuar o título do gráfico"
   ]
  },
  {
   "cell_type": "code",
   "execution_count": null,
   "metadata": {},
   "outputs": [],
   "source": [
    "plt.axis([0,5,0,20])\n",
    "plt.title('My first plot',fontsize=20,fontname='Times New Roman')\n",
    "plt.xlabel('Counting',color='gray')\n",
    "plt.ylabel('Square values',color='gray')\n",
    "plt.plot([1,2,3,4],[1,4,9,16],'ro')"
   ]
  },
  {
   "cell_type": "markdown",
   "metadata": {},
   "source": [
    "Mas matplotlib não se limita a isso: pyplot permite adicionar texto a qualquer posição\n",
    "dentro de um gráfico. Esse recurso é executado por uma função específica chamada text()."
   ]
  },
  {
   "cell_type": "code",
   "execution_count": null,
   "metadata": {},
   "outputs": [],
   "source": [
    "text(x,y,s, fontdict=None, **kwargs)"
   ]
  },
  {
   "cell_type": "markdown",
   "metadata": {},
   "source": [
    "Os dois primeiros argumentos são as coordenadas do local onde você deseja colocar\n",
    "o texto. s é a string de texto a ser adicionada e fontdict (opcional) é a fonte que você\n",
    "quer usar. Finalmente, você pode adicionar as palavras-chave.\n",
    "\n",
    "Adicione o rótulo a cada ponto do gráfico. Porque os dois primeiros argumentos para o text ()\n",
    "função são as coordenadas do gráfico, você tem que usar as coordenadas dos quatro\n",
    "pontos do gráfico deslocaram-se ligeiramente no eixo y."
   ]
  },
  {
   "cell_type": "code",
   "execution_count": null,
   "metadata": {},
   "outputs": [],
   "source": [
    "plt.axis([0,5,0,20])\n",
    "plt.title('My first plot',fontsize=20,fontname='Times New Roman')\n",
    "plt.xlabel('Counting',color='gray')\n",
    "plt.ylabel('Square values',color='gray')\n",
    "plt.text(1,1.5,'First')\n",
    "plt.text(2,4.5,'Second')\n",
    "plt.text(3,9.5,'Third')\n",
    "plt.text(4,16.5,'Fourth')\n",
    "plt.plot([1,2,3,4],[1,4,9,16],'ro')"
   ]
  },
  {
   "cell_type": "markdown",
   "metadata": {},
   "source": [
    "Como matplotlib é uma biblioteca gráfica projetada para ser usada em círculos científicos, ela\n",
    "deve ser capaz de explorar todo o potencial da linguagem científica, incluindo\n",
    "expressões. matplotlib oferece a possibilidade de integrar expressões LaTeX,\n",
    "permitindo que você insira expressões matemáticas dentro do gráfico.\n",
    "\n",
    "Para fazer isso, você pode adicionar uma expressão LaTeX ao texto, colocando-a entre dois $\n",
    "personagens. O interpretador irá reconhecê-los como expressões LaTeX e convertê-los\n",
    "ao gráfico correspondente, que pode ser uma expressão matemática, uma fórmula,\n",
    "caracteres matemáticos ou apenas letras gregas. Geralmente você tem que preceder a string\n",
    "contendo expressões LaTeX com um r, que indica texto bruto, para evitar\n",
    "sequências de fuga não intencionais.\n",
    "\n",
    "Aqui, você também pode usar as palavras-chave para enriquecer ainda mais o texto a ser mostrado no\n",
    "trama. Portanto, como exemplo, você pode adicionar a fórmula que descreve a tendência seguida por\n",
    "o ponto do gráfico e coloque-o em uma caixa delimitadora colorida"
   ]
  },
  {
   "cell_type": "code",
   "execution_count": null,
   "metadata": {},
   "outputs": [],
   "source": [
    "plt.axis([0,5,0,20])\n",
    "plt.title('My first plot',fontsize=20,fontname='Times New Roman')\n",
    "plt.xlabel('Counting',color='gray')\n",
    "plt.ylabel('Square values',color='gray')\n",
    "plt.text(1,1.5,'First')\n",
    "plt.text(2,4.5,'Second')\n",
    "plt.text(3,9.5,'Third')\n",
    "plt.text(4,16.5,'Fourth')\n",
    "plt.text(1.1,12,r'$y = x^2$',fontsize=20,bbox={'facecolor': 'yellow', 'alpha':0.2})\n",
    "plt.plot([1,2,3,4],[1,4,9,16],'ro')"
   ]
  },
  {
   "cell_type": "markdown",
   "metadata": {},
   "source": [
    "#### Adicionando uma grade"
   ]
  },
  {
   "cell_type": "markdown",
   "metadata": {},
   "source": [
    "Outro elemento que você pode adicionar a um gráfico é uma grade. Muitas vezes sua adição é necessária para\n",
    "entender melhor a posição ocupada por cada ponto no gráfico.\n",
    "\n",
    "Adicionar uma grade a um gráfico é uma operação muito simples: basta adicionar a função grid(),\n",
    "passando True como um argumento"
   ]
  },
  {
   "cell_type": "code",
   "execution_count": null,
   "metadata": {},
   "outputs": [],
   "source": [
    "plt.axis([0,5,0,20])\n",
    "plt.title('My first plot',fontsize=20,fontname='Times New Roman')\n",
    "plt.xlabel('Counting',color='gray')\n",
    "plt.ylabel('Square values',color='gray')\n",
    "plt.text(1,1.5,'First')\n",
    "plt.text(2,4.5,'Second')\n",
    "plt.text(3,9.5,'Third')\n",
    "plt.text(4,16.5,'Fourth')\n",
    "plt.text(1.1,12,r'$y = x^2$',fontsize=20,bbox={'facecolor':'yellow','alpha':0.2})\n",
    "plt.grid(True)\n",
    "plt.plot([1,2,3,4],[1,4,9,16],'ro')"
   ]
  },
  {
   "cell_type": "markdown",
   "metadata": {},
   "source": [
    "#### Adicionando uma legenda"
   ]
  },
  {
   "cell_type": "markdown",
   "metadata": {},
   "source": [
    "Outro componente muito importante que deve estar presente em qualquer gráfico é a legenda.\n",
    "pyplot também fornece uma função específica para este tipo de objeto: legend().\n",
    "\n",
    "Adicione uma legenda ao seu gráfico com a função legend() e uma string indicando o\n",
    "palavras com as quais você deseja que a série seja exibida. Neste exemplo, você atribui o primeiro\n",
    "nome da série para a matriz de dados de entrada"
   ]
  },
  {
   "cell_type": "code",
   "execution_count": null,
   "metadata": {},
   "outputs": [],
   "source": [
    "plt.axis([0,5,0,20])\n",
    "plt.title('My first plot',fontsize=20,fontname='Times New Roman')\n",
    "plt.xlabel('Counting',color='gray')\n",
    "plt.ylabel('Square values',color='gray')\n",
    "plt.text(2,4.5,'Second')\n",
    "plt.text(3,9.5,'Third')\n",
    "plt.text(4,16.5,'Fourth')\n",
    "plt.text(1.1,12,'$y = x^2$',fontsize=20,bbox={'facecolor':'yellow','alpha':0.2})\n",
    "plt.grid(True)\n",
    "plt.plot([1,2,3,4],[1,4,9,16],'ro')\n",
    "plt.legend(['First series'])"
   ]
  },
  {
   "cell_type": "markdown",
   "metadata": {},
   "source": [
    "Como você pode ver na Figura 7-19, a legenda é adicionada no canto superior direito por\n",
    "padrão. Novamente, se você quiser alterar esse comportamento, precisará adicionar alguns kwargs. Para\n",
    "exemplo, a posição ocupada pela legenda é definida atribuindo-se números de 0 a 10 a\n",
    "o loc kwarg. Cada um desses números caracteriza um dos cantos do gráfico\n",
    "(consulte a Tabela 7-1). Um valor de 1 é o padrão, ou seja, o canto superior direito. Na próxima\n",
    "exemplo, você moverá a legenda no canto superior esquerdo para que ela não se sobreponha ao\n",
    "pontos representados no gráfico."
   ]
  },
  {
   "cell_type": "markdown",
   "metadata": {},
   "source": [
    "|Código de localização | Cadeia de localização|\n",
    "|---|---|\n",
    "|0 | melhor|\n",
    "|1 | canto superior direito|\n",
    "|2 | canto superior esquerdo|\n",
    "|3 | canto inferior direito|\n",
    "|4 | inferior esquerdo|\n",
    "|5 | certo|\n",
    "|6 | centro-esquerda|\n",
    "|7 | centro-direita|\n",
    "|8 | centro-inferior|\n",
    "|9 | centro-superior|\n",
    "|10 | centro|"
   ]
  },
  {
   "cell_type": "markdown",
   "metadata": {},
   "source": [
    "Antes de começar a modificar o código para mover a legenda, gostaria de acrescentar um pequeno aviso.\n",
    "Geralmente, as legendas são usadas para indicar a definição de uma série ao leitor por meio de\n",
    "um rótulo associado a uma cor e/ou um marcador que o distingue na trama. Até aqui\n",
    "nos exemplos, você usou uma única série que foi expressa por um único plot()\n",
    "função. Agora, você deve se concentrar em um caso mais geral em que o mesmo gráfico mostra\n",
    "mais séries simultaneamente. Cada série no gráfico será caracterizada por um\n",
    "cor e um marcador específico (veja a Figura 7-20). Em termos de código, cada série será\n",
    "caracterizados por uma chamada para a função plot() e a ordem em que são definidos irá\n",
    "correspondem à ordem dos rótulos de texto passados como um argumento para a função legend()."
   ]
  },
  {
   "cell_type": "code",
   "execution_count": null,
   "metadata": {},
   "outputs": [],
   "source": [
    "import matplotlib.pyplot as plt\n",
    "plt.axis([0,5,0,20])\n",
    "plt.title('My first plot',fontsize=20,fontname='Times New Roman')\n",
    "plt.xlabel('Counting',color='gray')\n",
    "plt.ylabel('Square values',color='gray')\n",
    "plt.text(1,1.5,'First')\n",
    "plt.text(2,4.5,'Second')\n",
    "plt.text(3,9.5,'Third')\n",
    "plt.text(4,16.5,'Fourth')\n",
    "plt.text(1.1,12,'$y = x^2$',fontsize=20,bbox={'facecolor':'yellow','alpha':0.2})\n",
    "plt.grid(True)\n",
    "plt.plot([1,2,3,4],[1,4,9,16],'ro')\n",
    "plt.plot([1,2,3,4],[0.8,3.5,8,15],'g^')\n",
    "plt.plot([1,2,3,4],[0.5,2.5,4,12],'b*')\n",
    "plt.legend(['First series','Second series','Third series'],loc=2)"
   ]
  },
  {
   "cell_type": "markdown",
   "metadata": {},
   "source": [
    "#### Salvando seus gráficos"
   ]
  },
  {
   "cell_type": "markdown",
   "metadata": {},
   "source": [
    "Nesta seção, você aprenderá como salvar seu gráfico de diferentes maneiras, dependendo do seu\n",
    "precisa. Se você precisar reproduzir seu gráfico em diferentes notebooks ou sessões Python, ou\n",
    "reutilizá-los em projetos futuros, é uma boa prática salvar o código Python. No outro\n",
    "lado, se você precisa fazer relatórios ou apresentações, pode ser muito útil salvar seu\n",
    "gráfico como uma imagem. Além disso, é possível salvar seu gráfico como uma página HTML, e isso\n",
    "pode ser muito útil quando você precisa compartilhar seu trabalho na Web."
   ]
  },
  {
   "cell_type": "markdown",
   "metadata": {},
   "source": [
    "#### Salvando o Código"
   ]
  },
  {
   "cell_type": "markdown",
   "metadata": {},
   "source": [
    "Como você pode ver nos exemplos das seções anteriores, o código referente ao\n",
    "representação de um único gráfico está crescendo em um bom número de linhas. Uma vez que você pensa\n",
    "você alcançou um bom ponto em seu processo de desenvolvimento, você pode optar por salvar todos\n",
    "linhas de código em um arquivo .py que você pode acessar a qualquer momento."
   ]
  },
  {
   "cell_type": "markdown",
   "metadata": {},
   "source": [
    "Você pode usar o comando mágico save% seguido do nome do arquivo que deseja\n",
    "salvar seguido pelo número de prompts de entrada contendo a linha de código que você deseja\n",
    "salvar. Se todo o código for escrito em apenas um prompt, como é o seu caso, você deverá adicionar apenas\n",
    "seu número; caso contrário, se você quiser salvar o código escrito em muitos prompts, por exemplo\n",
    "de 10 a 20, você deve indicar esse intervalo com os dois números separados por um -, que\n",
    "é, 10-20."
   ]
  },
  {
   "cell_type": "markdown",
   "metadata": {},
   "source": [
    "No seu caso, você salvaria o código Python subjacente à representação de seu\n",
    "primeiro gráfico contido no prompt de entrada com o número 171."
   ]
  },
  {
   "cell_type": "code",
   "execution_count": null,
   "metadata": {},
   "outputs": [],
   "source": [
    "import matplotlib.pyplot as plt"
   ]
  },
  {
   "cell_type": "markdown",
   "metadata": {},
   "source": [
    "Você precisa inserir o seguinte comando para salvar o código em um novo arquivo .py."
   ]
  },
  {
   "cell_type": "code",
   "execution_count": null,
   "metadata": {},
   "outputs": [],
   "source": [
    "%save my_first_chart 171"
   ]
  },
  {
   "cell_type": "markdown",
   "metadata": {},
   "source": [
    "Depois de iniciar o comando, você encontrará o arquivo my_first_chart.py em seu\n",
    "diretório de trabalho"
   ]
  },
  {
   "cell_type": "code",
   "execution_count": null,
   "metadata": {},
   "outputs": [],
   "source": [
    "# my_first_chart.py\n",
    "\n",
    "# coding: utf-8\n",
    "import matplotlib.pyplot as plt\n",
    "plt.axis([0,5,0,20])\n",
    "plt.title('My first plot',fontsize=20,fontname='Times New Roman')\n",
    "plt.xlabel('Counting',color='gray')\n",
    "plt.ylabel('Square values',color='gray')\n",
    "plt.text(1,1.5,'First')\n",
    "plt.text(2,4.5,'Second')\n",
    "plt.text(3,9.5,'Third')\n",
    "plt.text(4,16.5,'Fourth')\n",
    "plt.text(1.1,12,'$y = x^2$',fontsize=20,bbox={'facecolor':'yellow', 'alpha':0.2})\n",
    "plt.grid(True)\n",
    "plt.plot([1,2,3,4],[1,4,9,16],'ro')\n",
    "plt.plot([1,2,3,4],[0.8,3.5,8,15],'g^')\n",
    "plt.plot([1,2,3,4],[0.5,2.5,4,12],'b*')\n",
    "plt.legend(['First series','Second series','Third series'],loc=2)"
   ]
  },
  {
   "cell_type": "markdown",
   "metadata": {},
   "source": [
    "Posteriormente, ao abrir uma nova sessão do IPython, você terá seu gráfico e começará a\n",
    "altere o código no ponto onde você o salvou digitando o seguinte comando:"
   ]
  },
  {
   "cell_type": "code",
   "execution_count": null,
   "metadata": {},
   "outputs": [],
   "source": [
    "%run ipython qtconsole --matplotlib inline -m my_first_chart.py"
   ]
  },
  {
   "cell_type": "markdown",
   "metadata": {},
   "source": [
    "Ou você pode recarregar o código inteiro em um único prompt no QtConsole usando o\n",
    "comando mágico %load."
   ]
  },
  {
   "cell_type": "code",
   "execution_count": null,
   "metadata": {},
   "outputs": [],
   "source": [
    "%load my_first_chart.py"
   ]
  },
  {
   "cell_type": "markdown",
   "metadata": {},
   "source": [
    "Ou você pode executá-lo durante uma sessão com o comando mágico %run."
   ]
  },
  {
   "cell_type": "code",
   "execution_count": null,
   "metadata": {},
   "outputs": [],
   "source": [
    "%run my_first_chart.py"
   ]
  },
  {
   "cell_type": "markdown",
   "metadata": {},
   "source": [
    "#### Convertendo sua sessão em um arquivo HTML"
   ]
  },
  {
   "cell_type": "markdown",
   "metadata": {},
   "source": [
    "Usando o IPython QtConsole, você pode converter todo o código e gráficos presentes em seu\n",
    "sessão atual para uma página HTML. Basta escolher Arquivo-->Salvar em HTML/XHTML no\n",
    "cardápio"
   ]
  },
  {
   "cell_type": "markdown",
   "metadata": {},
   "source": [
    "Você será solicitado a salvar sua sessão em dois formatos diferentes: HTML e\n",
    "XHMTL. A diferença entre os dois formatos é baseada no tipo de conversão da imagem.\n",
    "Se você selecionar HTML como formato de arquivo de saída, as imagens contidas em sua sessão serão\n",
    "ser convertido para o formato PNG. Se você selecionar XHTML como formato de arquivo de saída, o\n",
    "as imagens serão convertidas para o formato SVG."
   ]
  },
  {
   "cell_type": "markdown",
   "metadata": {},
   "source": [
    "Ao escolher a opção externa, as imagens serão coletadas em um diretório chamado\n",
    "my_session_files. Ao escolher inline, a informação gráfica relativa à imagem\n",
    "está embutido no código HTML."
   ]
  },
  {
   "cell_type": "markdown",
   "metadata": {},
   "source": [
    "#### Salvando seu gráfico diretamente como uma imagem"
   ]
  },
  {
   "cell_type": "markdown",
   "metadata": {},
   "source": [
    "Se você estiver interessado em salvar apenas a figura de um gráfico como um arquivo de imagem, ignorando todos\n",
    "o código que você escreveu durante a sessão, isso também é possível. Na verdade, graças a\n",
    "a função savefig(), você pode salvar diretamente o gráfico em um formato PNG, embora\n",
    "você deve ter o cuidado de adicionar esta função ao final da mesma série de comandos\n",
    "(caso contrário, você obterá um arquivo PNG em branco)."
   ]
  },
  {
   "cell_type": "code",
   "execution_count": null,
   "metadata": {},
   "outputs": [],
   "source": [
    "plt.axis([0,5,0,20])\n",
    "plt.title('My first plot',fontsize=20,fontname='Times New Roman')\n",
    "plt.xlabel('Counting',color='gray')\n",
    "plt.ylabel('Square values',color='gray')\n",
    "plt.text(1,1.5,'First')\n",
    "plt.text(2,4.5,'Second')\n",
    "plt.text(3,9.5,'Third')\n",
    "plt.text(4,16.5,'Fourth')\n",
    "plt.text(1.1,12,'$y = x^2$',fontsize=20,bbox={'facecolor':'yellow','alpha':0.2})\n",
    "plt.grid(True)\n",
    "plt.plot([1,2,3,4],[1,4,9,16],'ro')\n",
    "plt.plot([1,2,3,4],[0.8,3.5,8,15],'g^')\n",
    "plt.plot([1,2,3,4],[0.5,2.5,4,12],'b*')\n",
    "plt.legend(['First series','Second series','Third series'],loc=2)\n",
    "plt.savefig('my_chart.png')"
   ]
  },
  {
   "cell_type": "markdown",
   "metadata": {},
   "source": [
    "Executando o código anterior, um novo arquivo será criado em seu diretório de trabalho.\n",
    "Este arquivo será nomeado my_chart.png e conterá a imagem do seu gráfico."
   ]
  },
  {
   "cell_type": "markdown",
   "metadata": {},
   "source": [
    "#### Manipulando valores de data"
   ]
  },
  {
   "cell_type": "markdown",
   "metadata": {},
   "source": [
    "Um dos problemas mais comuns encontrados ao fazer análise de dados é lidar com\n",
    "dados do tipo data-hora. Exibir esses dados ao longo de um eixo (normalmente o eixo x) pode ser\n",
    "problemático, especialmente ao gerenciar carrapatos\n",
    "\n",
    "Tomemos, por exemplo, a exibição de um gráfico linear com um conjunto de dados de oito pontos em que\n",
    "você deve representar os valores de data no eixo x com o seguinte formato: dia-mês-ano."
   ]
  },
  {
   "cell_type": "code",
   "execution_count": null,
   "metadata": {},
   "outputs": [],
   "source": [
    "import datetime\n",
    "import numpy as np\n",
    "import matplotlib.pyplot as plt\n",
    "\n",
    "events = [datetime.date(2015,1,23),datetime.\n",
    "date(2015,1,28),datetime.date(2015,2,3),datetime.\n",
    "date(2015,2,21),datetime.date(2015,3,15),datetime.\n",
    "date(2015,3,24),datetime.date(2015,4,8),datetime.date(2015,4,24)]\n",
    "readings = [12,22,25,20,18,15,17,14]\n",
    "plt.plot(events,readings)"
   ]
  },
  {
   "cell_type": "markdown",
   "metadata": {},
   "source": [
    "Como você pode ver na Figura 7-24, o gerenciamento automático de ticks e, especialmente, o\n",
    "rótulos de escala, pode ser um desastre. As datas expressas desta forma são difíceis de ler,\n",
    "não há intervalos claros de tempo decorridos entre um ponto e outro, e há\n",
    "também se sobrepõem."
   ]
  },
  {
   "cell_type": "markdown",
   "metadata": {},
   "source": [
    "Para gerenciar datas, portanto, é aconselhável definir uma escala de tempo com\n",
    "objetos. Primeiro você precisa importar matplotlib.dates, um módulo especializado para este tipo\n",
    "De dados. Então você define as escalas dos tempos, como neste caso, uma escala de dias e uma de\n",
    "os meses, através das funções MonthLocator() e DayLocator(). Nesses casos,\n",
    "a formatação também é muito importante, e para evitar sobreposições ou referências desnecessárias,\n",
    "você deve limitar os rótulos dos ticks ao essencial, que neste caso é ano-mês. Esse\n",
    "format pode ser passado como um argumento para a função DateFormatter().\n",
    "\n",
    "Depois de definir as duas escalas, uma para os dias e outra para os meses, você pode\n",
    "defina dois tipos diferentes de marcações no eixo x, usando set_major_locator() e set_\n",
    "funções minor_locator() no objeto xaxis. Em vez disso, para definir o formato de texto do tick\n",
    "rótulos referentes aos meses, você deve usar a função set_major_formatter()."
   ]
  },
  {
   "cell_type": "code",
   "execution_count": null,
   "metadata": {},
   "outputs": [],
   "source": [
    "import datetime\n",
    "import numpy as np\n",
    "import matplotlib.pyplot as plt\n",
    "import matplotlib.dates as mdates\n",
    "\n",
    "months = mdates.MonthLocator()\n",
    "days = mdates.DayLocator()\n",
    "timeFmt = mdates.DateFormatter('%Y-%m')\n",
    "events = [datetime.date(2015,1,23),datetime.\n",
    "\n",
    "date(2015,1,28),datetime.date(2015,2,3),datetime.\n",
    "date(2015,2,21),datetime.date(2015,3,15),datetime.\n",
    "date(2015,3,24),datetime.date(2015,4,8),datetime.date(2015,4,24)]\n",
    "readings = [12,22,25,20,18,15,17,14]\n",
    "fig, ax = plt.subplots()\n",
    "plt.plot(events,readings)\n",
    "ax.xaxis.set_major_locator(months)\n",
    "ax.xaxis.set_major_formatter(timeFmt)\n",
    "ax.xaxis.set_minor_locator(days)"
   ]
  },
  {
   "cell_type": "markdown",
   "metadata": {},
   "source": [
    "#### Tipologia do gráfico"
   ]
  },
  {
   "cell_type": "markdown",
   "metadata": {},
   "source": [
    "Nas seções anteriores, você viu vários exemplos relacionados à arquitetura do\n",
    "biblioteca matplotlib. Agora que você está familiarizado com o uso dos principais elementos gráficos\n",
    "em um gráfico, é hora de ver uma série de exemplos tratando diferentes tipos de gráficos, começando\n",
    "desde os mais comuns, como gráficos lineares, gráficos de barras e gráficos de pizza, até um\n",
    "discussão sobre alguns que são mais sofisticados, mas comumente usados.\n",
    "\n",
    "Esta parte do capítulo é muito importante, pois o propósito desta biblioteca é a\n",
    "visualização dos resultados produzidos pela análise de dados. Assim, saber escolher o\n",
    "tipo adequado de gráfico é uma escolha fundamental. Lembre-se de que uma excelente análise de dados\n",
    "representado incorretamente pode levar a uma interpretação errada dos resultados experimentais."
   ]
  },
  {
   "cell_type": "markdown",
   "metadata": {},
   "source": [
    "#### Gráficos de linhas"
   ]
  },
  {
   "cell_type": "markdown",
   "metadata": {},
   "source": [
    "Entre todos os tipos de gráfico, o gráfico linear é o mais simples. Um gráfico de linhas é uma sequência de\n",
    "pontos de dados conectados por uma linha. Cada ponto de dados consiste em um par de valores (x,y), que\n",
    "serão informados no gráfico de acordo com a escala de valores dos dois eixos (x e y).\n",
    "\n",
    "A título de exemplo, você pode começar a traçar os pontos gerados por uma matemática\n",
    "função. Então, você pode considerar uma função matemática genérica como esta:\n",
    "\n",
    "y = sen (3 * x) / x\n",
    "\n",
    "Portanto, se você deseja criar uma sequência de pontos de dados, precisa criar dois\n",
    "Matrizes NumPy. Primeiro você cria uma matriz contendo os valores x a serem referidos ao\n",
    "eixo x. Para definir uma sequência de valores crescentes, você usará o np.arange()\n",
    "função. Como a função é senoidal, você deve se referir a valores que são múltiplos\n",
    "e submúltiplos do pi grego (np.pi). Então, usando essa sequência de valores, você pode\n",
    "obtenha os valores de y aplicando a função np.sin() diretamente a esses valores (graças a\n",
    "NumPy!)."
   ]
  },
  {
   "cell_type": "code",
   "execution_count": null,
   "metadata": {},
   "outputs": [],
   "source": [
    "import matplotlib.pyplot as plt\n",
    "import numpy as np\n",
    "\n",
    "x = np.arange(-2*np.pi,2*np.pi,0.01)\n",
    "y = np.sin(3*x)/x\n",
    "plt.plot(x,y)"
   ]
  },
  {
   "cell_type": "markdown",
   "metadata": {},
   "source": [
    "Agora você pode estender o caso em que deseja exibir uma família de funções, como\n",
    "como este:\n",
    "\n",
    "y = sen (n * x) / x\n",
    "\n",
    "variando o parâmetro n."
   ]
  },
  {
   "cell_type": "code",
   "execution_count": null,
   "metadata": {},
   "outputs": [],
   "source": [
    "import matplotlib.pyplot as plt\n",
    "import numpy as np\n",
    "\n",
    "x = np.arange(-2*np.pi,2*np.pi,0.01)\n",
    "y = np.sin(3*x)/x\n",
    "y2 = np.sin(2*x)/x\n",
    "y3 = np.sin(3*x)/x\n",
    "\n",
    "plt.plot(x,y)\n",
    "plt.plot(x,y2)\n",
    "plt.plot(x,y3)"
   ]
  },
  {
   "cell_type": "markdown",
   "metadata": {},
   "source": [
    "Como você pode ver na Figura 7-27, uma cor diferente é atribuída automaticamente a cada linha.\n",
    "Todas as parcelas são representadas na mesma escala; ou seja, os pontos de dados de cada série referem-se\n",
    "ao mesmo eixo x e eixo y. Isso ocorre porque cada chamada da função plot() leva em\n",
    "conta as chamadas anteriores para a mesma função, então a Figura aplica as alterações mantendo\n",
    "memória dos comandos anteriores até que a Figura não seja exibida (usando show() com\n",
    "Python e Enter com o IPython QtConsole).\n",
    "\n",
    "Como você viu nas seções anteriores, independentemente das configurações padrão, você pode selecionar\n",
    "o tipo de traço, cor, etc. Como o terceiro argumento da função plot() você pode\n",
    "especificar alguns códigos que correspondem à cor (ver Tabela 7-2) e outros códigos que\n",
    "correspondem a estilos de linha, todos incluídos na mesma string. Outra possibilidade é usar\n",
    "dois kwargs separadamente, cor para definir a cor e estilo de linha para definir o traçado"
   ]
  },
  {
   "cell_type": "code",
   "execution_count": null,
   "metadata": {},
   "outputs": [],
   "source": [
    "import matplotlib.pyplot as plt\n",
    "import numpy as np\n",
    "\n",
    "x = np.arange(-2*np.pi,2*np.pi,0.01)\n",
    "y = np.sin(3*x)/x\n",
    "y2 = np.sin(2*x)/x\n",
    "y3 = np.sin(3*x)/x\n",
    "\n",
    "plt.plot(x,y,'k--',linewidth=3)\n",
    "plt.plot(x,y2,'m-.')\n",
    "plt.plot(x,y3,color='#87a3cc',linestyle='--')"
   ]
  },
  {
   "cell_type": "markdown",
   "metadata": {},
   "source": [
    "Códigos de cores\n",
    "\n",
    "|Código | Cor|\n",
    "|---|---|\n",
    "|b | azul|\n",
    "|g | verde|\n",
    "|r | vermelho|\n",
    "|c | ciano|\n",
    "|m | magenta|\n",
    "|y | amarelo|\n",
    "|k | preto|\n",
    "|w | branco|"
   ]
  },
  {
   "cell_type": "markdown",
   "metadata": {},
   "source": [
    "You have just defined a range from -2π to 2π on the x-axis, but by default, values on\n",
    "ticks are shown in numerical form. Therefore you need to replace the numerical values\n",
    "with multiple of π. You can also replace the ticks on the y-axis. To do all this, you have to\n",
    "use xticks() and yticks() functions, passing to each of them two lists of values. The\n",
    "first list contains values corresponding to the positions where the ticks are to be placed,\n",
    "and the second contains the tick labels. In this particular case, you have to use strings\n",
    "containing LaTeX format in order to correctly display the symbol π. Remember to define\n",
    "them within two $ characters and to add a r as the prefix."
   ]
  },
  {
   "cell_type": "code",
   "execution_count": null,
   "metadata": {},
   "outputs": [],
   "source": [
    "import matplotlib.pyplot as plt\n",
    "import numpy as np\n",
    "\n",
    "x = np.arange(-2*np.pi,2*np.pi,0.01)\n",
    "y = np.sin(3*x)/x\n",
    "y2 = np.sin(2*x)/x\n",
    "y3 = np.sin(x)/x\n",
    "\n",
    "plt.plot(x,y,color='b')\n",
    "plt.plot(x,y2,color='r')\n",
    "plt.plot(x,y3,color='g')\n",
    "plt.xticks([-2*np.pi, -np.pi, 0, np.pi, 2*np.pi],\n",
    "           [r'$-2\\pi$',r'$-\\pi$',r'$0$',r'$+\\pi$',r'$+2\\pi$'])\n",
    "plt.yticks([-1,0,1,2,3],\n",
    "           [r'$-1$',r'$0$',r'$+1$',r'$+2$',r'$+3$'])"
   ]
  },
  {
   "cell_type": "markdown",
   "metadata": {},
   "source": [
    "In all the linear charts you have seen so far, you always have the x-axis and y-axis\n",
    "placed at the edge of the figure (corresponding to the sides of the bounding border box).\n",
    "Another way of displaying axes is to have the two axes passing through the origin (0, 0),\n",
    "i.e., the two Cartesian axes.\n",
    "\n",
    "To do this, you must first capture the Axes object through the gca() function. Then\n",
    "through this object, you can select each of the four sides making up the bounding box,\n",
    "specifying for each one its position: right, left, bottom, and top. Crop the sides that do not\n",
    "match any axis (right and bottom) using the set_color() function and indicating none\n",
    "for color. Then, the sides corresponding to the x- and y-axes are moved to pass through\n",
    "the origin (0,0) with the set_position() function."
   ]
  },
  {
   "cell_type": "markdown",
   "metadata": {},
   "source": [
    "---"
   ]
  },
  {
   "attachments": {},
   "cell_type": "markdown",
   "metadata": {},
   "source": [
    "### Fim."
   ]
  }
 ],
 "metadata": {
  "kernelspec": {
   "display_name": "Python 3",
   "language": "python",
   "name": "python3"
  },
  "language_info": {
   "codemirror_mode": {
    "name": "ipython",
    "version": 3
   },
   "file_extension": ".py",
   "mimetype": "text/x-python",
   "name": "python",
   "nbconvert_exporter": "python",
   "pygments_lexer": "ipython3",
   "version": "3.10.5"
  },
  "orig_nbformat": 4
 },
 "nbformat": 4,
 "nbformat_minor": 2
}
