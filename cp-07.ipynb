{
 "cells": [
  {
   "cell_type": "markdown",
   "metadata": {},
   "source": [
    "### Estudos Miranda: Curso intensivo em Python e SciPy"
   ]
  },
  {
   "cell_type": "code",
   "execution_count": null,
   "metadata": {},
   "outputs": [],
   "source": [
    "%reload_ext watermark\n",
    "%watermark -a \"Caique Miranda\" -gu \"caiquemiranda\" -iv"
   ]
  },
  {
   "cell_type": "markdown",
   "metadata": {},
   "source": [
    "### Visualização de dados com matplotlib"
   ]
  },
  {
   "cell_type": "markdown",
   "metadata": {},
   "source": [
    "Depois de discutir nos capítulos anteriores as bibliotecas Python responsáveis pelos dados\n",
    "processamento, agora é a vez de você conhecer uma biblioteca que cuida da visualização. Esse\n",
    "biblioteca é matplotlib.\n",
    "\n",
    "\n",
    "A visualização de dados é muitas vezes subestimada na análise de dados, mas na verdade é uma\n",
    "fator muito importante porque a representação de dados incorreta ou ineficiente pode arruinar um\n",
    "caso contrário excelente análise. Neste capítulo, você descobrirá os vários aspectos do\n",
    "biblioteca matplotlib, incluindo como ela é estruturada e como maximizar o potencial que\n",
    "oferece."
   ]
  },
  {
   "cell_type": "markdown",
   "metadata": {},
   "source": [
    "#### Biblioteca matplotlib"
   ]
  },
  {
   "cell_type": "markdown",
   "metadata": {},
   "source": [
    "matplotlib é uma biblioteca Python especializada no desenvolvimento de gráficos bidimensionais\n",
    "gráficos (incluindo gráficos 3D). Nos últimos anos, tem sido difundido no meio científico e\n",
    "círculos de engenharia (http://matplolib.org).\n",
    "\n",
    "Entre todas as características que a tornaram a ferramenta mais utilizada na área gráfica\n",
    "representação de dados, há alguns que se destacam:\n",
    "\n",
    "• Extrema simplicidade na sua utilização\n",
    "• Desenvolvimento gradual e visualização interativa de dados\n",
    "• Expressões e texto em LaTeX\n",
    "• Maior controle sobre os elementos gráficos\n",
    "• Exporte para vários formatos, como PNG, PDF, SVG e EPS\n",
    "\n",
    "matplotlib é projetado para reproduzir tanto quanto possível um ambiente semelhante ao\n",
    "MATLAB em termos de visualização gráfica e forma sintática. Esta abordagem provou\n",
    "bem-sucedido, pois soube explorar a experiência do software (MATLAB) que\n",
    "está no mercado há vários anos e hoje é difundido em todos os profissionais técnico-científicos\n",
    "círculos. O matplotlib não é apenas baseado em um esquema conhecido e bastante familiar\n",
    "para a maioria dos especialistas na área, mas também explora as otimizações que ao longo do\n",
    "anos levaram a uma dedutibilidade e simplicidade na sua utilização, o que torna esta biblioteca também\n",
    "uma excelente escolha para aqueles que abordam a visualização de dados pela primeira vez, especialmente\n",
    "aqueles sem nenhuma experiência com aplicativos como MATLAB ou similares."
   ]
  },
  {
   "cell_type": "markdown",
   "metadata": {},
   "source": [
    "Além da simplicidade e dedutibilidade, a biblioteca matplotlib herdou\n",
    "interatividade do MATLAB também. Ou seja, o analista pode inserir comando após\n",
    "comando para controlar o desenvolvimento gradual de uma representação gráfica de dados.\n",
    "Este modo é adequado para as abordagens mais interativas do Python como o IPython\n",
    "QtConsole e IPython Notebook (consulte o Capítulo 2), fornecendo assim um ambiente\n",
    "para análise de dados que tem pouco a invejar de outras ferramentas como Mathematica, IDL ou\n",
    "MATLAB."
   ]
  },
  {
   "cell_type": "markdown",
   "metadata": {},
   "source": [
    "A genialidade de quem desenvolveu esta bela biblioteca foi usar e incorporar\n",
    "as coisas boas atualmente disponíveis e em uso na ciência. Isso não é apenas limitado, como nós\n",
    "vimos, ao modo de operação do MATLAB e similares, mas também aos modelos de\n",
    "formatação de expressões científicas e símbolos representados pelo LaTeX. Por causa de sua\n",
    "grande capacidade de exibição e apresentação de expressões científicas, o LaTeX tem sido um\n",
    "elemento insubstituível em qualquer publicação ou documentação científica, onde a necessidade de\n",
    "representar visualmente expressões como integrais, somatórios e derivadas é obrigatório.\n",
    "Portanto matplotlib integra este notável instrumento para melhorar a\n",
    "capacidade representativa das cartas."
   ]
  },
  {
   "cell_type": "markdown",
   "metadata": {},
   "source": [
    "Além disso, você não deve esquecer que o matplotlib não é um aplicativo separado, mas\n",
    "uma biblioteca de uma linguagem de programação como Python. Portanto, também aproveita ao máximo o\n",
    "potencial que as linguagens de programação oferecem. matplotlib parece uma biblioteca de gráficos\n",
    "que permite gerenciar programaticamente os elementos gráficos que compõem um gráfico\n",
    "para que a exibição gráfica possa ser controlada em sua totalidade. A capacidade de programar\n",
    "a representação gráfica permite o gerenciamento da reprodutibilidade dos dados\n",
    "representação em vários ambientes e especialmente quando você faz alterações ou\n",
    "quando os dados são atualizados."
   ]
  },
  {
   "cell_type": "markdown",
   "metadata": {},
   "source": [
    "Além disso, como matplotlib é uma biblioteca Python, ela permite que você explore todo o\n",
    "potencial de outras bibliotecas disponíveis para qualquer desenvolvedor que implemente com esta\n",
    "linguagem. De fato, no que diz respeito à análise de dados, o matplotlib normalmente coopera com um conjunto\n",
    "de outras bibliotecas como NumPy e pandas, mas muitas outras bibliotecas podem ser integradas\n",
    "sem qualquer problema."
   ]
  },
  {
   "cell_type": "markdown",
   "metadata": {},
   "source": []
  },
  {
   "cell_type": "markdown",
   "metadata": {},
   "source": [
    "#### The matplotlib Architecture"
   ]
  },
  {
   "cell_type": "markdown",
   "metadata": {},
   "source": [
    "One of the key tasks that matplotlib must take on is provide a set of functions and tools\n",
    "that allow representation and manipulation of a Figure (the main object), along with\n",
    "all internal objects of which it is composed. However, matplotlib not only deals with\n",
    "graphics but also provides all the tools for the event handling and the ability to animate\n",
    "graphics. So, thanks to these additional features, matplotlib proves to be capable of\n",
    "producing interactive charts based on the events triggered by pressing a key on the\n",
    "keyboard or on mouse movement."
   ]
  },
  {
   "cell_type": "markdown",
   "metadata": {},
   "source": [
    "The architecture of matplotlib is logically structured into three layers, which are\n",
    "placed at three different levels (see Figure 7-2). The communication is unidirectional,\n",
    "that is, each layer can communicate with the underlying layer, while the lower layers\n",
    "cannot communicate with the top ones."
   ]
  },
  {
   "cell_type": "markdown",
   "metadata": {},
   "source": [
    "Figure 7-2. The three layers of the matplotlib architecture\n",
    "The three layers are as follows:\n",
    "• Scripting\n",
    "• Artist\n",
    "• Backend"
   ]
  },
  {
   "cell_type": "markdown",
   "metadata": {},
   "source": [
    "#### Backend Layer"
   ]
  },
  {
   "cell_type": "markdown",
   "metadata": {},
   "source": [
    "In the diagram of the matplotlib architecture, the layer that works at the lowest level is\n",
    "the Backend layer. This layer contains the matplotlib APIs, a set of classes that play the\n",
    "role of implementation of the graphic elements at a low level.\n",
    "\n",
    "• FigureCanvas is the object that embodies the concept of\n",
    "drawing area.\n",
    "• Renderer is the object that draws on FigureCanvas.\n",
    "• Event is the object that handles user inputs (keyboard and\n",
    "mouse events)."
   ]
  },
  {
   "cell_type": "markdown",
   "metadata": {},
   "source": [
    "#### Artist Layer"
   ]
  },
  {
   "cell_type": "markdown",
   "metadata": {},
   "source": [
    "As an intermediate layer, we have a layer called Artist. All the elements that make up a\n",
    "chart, such as the title, axis labels, markers, etc., are instances of the Artist object. Each of\n",
    "these instances plays its role within a hierarchical structure\n",
    "\n",
    "There are two Artist classes: primitive and composite.\n",
    "\n",
    "• The primitive artists are individual objects that constitute the basic\n",
    "elements to form a graphical representation in a plot, for example a\n",
    "Line2D, or as a geometric figure such as a Rectangle or Circle, or even\n",
    "pieces of text.\n",
    "• The composite artists are those graphic elements present in a chart\n",
    "that are composed of several base elements, namely, the primitive\n",
    "artists. Composite artists are for example the Axis, Ticks, Axes, and\n",
    "Figures"
   ]
  },
  {
   "cell_type": "markdown",
   "metadata": {},
   "source": [
    "Generally, working at this level you will have to deal often with objects in higher\n",
    "hierarchy as Figure, Axes, and Axis. So it is important to fully understand what these\n",
    "objects are and what role they play within the graphical representation. Figure 7-4\n",
    "shows the three main Artist objects (composite artists) that are generally used in all\n",
    "implementations performed at this level."
   ]
  },
  {
   "cell_type": "markdown",
   "metadata": {},
   "source": [
    "• Figure is the object with the highest level in the hierarchy. It\n",
    "corresponds to the entire graphical representation and generally can\n",
    "contain many Axes.\n",
    "• Axes is generally what you mean as plot or chart. Each Axis object\n",
    "belongs to only one Figure, and is characterized by two Artist Axis\n",
    "(three in the three-dimensional case). Other objects, such as the title,\n",
    "the x label, and the y label, belong to this composite artist.\n",
    "• Axis objects that take into account the numerical values to be\n",
    "represented on Axes, define the limits and manage the ticks (the\n",
    "mark on the axes) and tick labels (the label text represented on each\n",
    "tick). The position of the tick is adjusted by an object called a Locator\n",
    "while the formatting tick label is regulated by an object called a\n",
    "Formatter."
   ]
  },
  {
   "cell_type": "markdown",
   "metadata": {},
   "source": [
    "#### Scripting Layer (pyplot)"
   ]
  },
  {
   "cell_type": "markdown",
   "metadata": {},
   "source": [
    "Artist classes and their related functions (the matplotlib API) are particularly suitable to\n",
    "all developers, especially for those who work on web application servers or develop the\n",
    "GUI. But for purposes of calculation, and in particular for the analysis and visualization\n",
    "of data, the scripting layer is best. This layer consists of an interface called pyplot."
   ]
  },
  {
   "cell_type": "markdown",
   "metadata": {},
   "source": [
    "#### pylab and pyplot"
   ]
  },
  {
   "cell_type": "markdown",
   "metadata": {},
   "source": [
    "In general there is talk of pylab and pyplot. But what is the difference between these\n",
    "two packages? Pylab is a module that is installed along with matplotlib, while pyplot\n",
    "is an internal module of matplotlib. Often you will find references to one or the other\n",
    "approach."
   ]
  },
  {
   "cell_type": "code",
   "execution_count": null,
   "metadata": {},
   "outputs": [],
   "source": [
    "from pylab import *\n",
    "#and\n",
    "import matplotlib.pyplot as plt\n",
    "import numpy as np"
   ]
  },
  {
   "cell_type": "markdown",
   "metadata": {},
   "source": [
    "Pylab combines the functionality of pyplot with the capabilities of NumPy in a single\n",
    "namespace, and therefore you do not need to import NumPy separately. Furthermore,\n",
    "if you import pylab, pyplot and NumPy functions can be called directly without any\n",
    "reference to a module (namespace), making the environment more similar to MATLAB."
   ]
  },
  {
   "cell_type": "code",
   "execution_count": null,
   "metadata": {},
   "outputs": [],
   "source": [
    "plot(x,y)\n",
    "array([1,2,3,4])\n",
    "# Instead of\n",
    "plt.plot()\n",
    "np.array([1,2,3,4]"
   ]
  },
  {
   "cell_type": "markdown",
   "metadata": {},
   "source": [
    "The pyplot package provides the classic Python interface for programming the\n",
    "matplotlib library, has its own namespace, and requires the import of the NumPy\n",
    "package separately. This approach is the one chosen for this book; it is the main topic of\n",
    "this chapter; and it will be used for the rest of the book. In fact this choice is shared and\n",
    "approved by most Python developers."
   ]
  },
  {
   "cell_type": "markdown",
   "metadata": {},
   "source": [
    "---"
   ]
  },
  {
   "attachments": {},
   "cell_type": "markdown",
   "metadata": {},
   "source": [
    "### Fim."
   ]
  }
 ],
 "metadata": {
  "language_info": {
   "name": "python"
  },
  "orig_nbformat": 4
 },
 "nbformat": 4,
 "nbformat_minor": 2
}
