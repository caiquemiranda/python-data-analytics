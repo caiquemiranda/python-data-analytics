{
 "cells": [
  {
   "cell_type": "markdown",
   "metadata": {},
   "source": [
    "### Estudos Miranda: Curso intensivo em Python e SciPy"
   ]
  },
  {
   "cell_type": "code",
   "execution_count": null,
   "metadata": {},
   "outputs": [],
   "source": [
    "%reload_ext watermark\n",
    "%watermark -a \"Caique Miranda\" -gu \"caiquemiranda\" -iv"
   ]
  },
  {
   "cell_type": "markdown",
   "metadata": {},
   "source": [
    "### Visualização de dados com matplotlib"
   ]
  },
  {
   "cell_type": "markdown",
   "metadata": {},
   "source": [
    "Depois de discutir nos capítulos anteriores as bibliotecas Python responsáveis pelos dados processamento, agora é a vez de você conhecer uma biblioteca que cuida da visualização. Esse biblioteca é matplotlib.\n",
    "\n",
    "\n",
    "A visualização de dados é muitas vezes subestimada na análise de dados, mas na verdade é uma fator muito importante porque a representação de dados incorreta ou ineficiente pode arruinar um caso contrário excelente análise. Neste capítulo, você descobrirá os vários aspectos do biblioteca matplotlib, incluindo como ela é estruturada e como maximizar o potencial que oferece."
   ]
  },
  {
   "cell_type": "markdown",
   "metadata": {},
   "source": [
    "#### Biblioteca matplotlib"
   ]
  },
  {
   "cell_type": "markdown",
   "metadata": {},
   "source": [
    "matplotlib é uma biblioteca Python especializada no desenvolvimento de gráficos bidimensionais gráficos (incluindo gráficos 3D). Nos últimos anos, tem sido difundido no meio científico e círculos de engenharia (http://matplolib.org).\n",
    "\n",
    "Entre todas as características que a tornaram a ferramenta mais utilizada na área gráfica representação de dados, há alguns que se destacam:\n",
    "\n",
    "• Extrema simplicidade na sua utilização\n",
    "• Desenvolvimento gradual e visualização interativa de dados\n",
    "• Expressões e texto em LaTeX\n",
    "• Maior controle sobre os elementos gráficos\n",
    "• Exporte para vários formatos, como PNG, PDF, SVG e EPS\n",
    "\n",
    "matplotlib é projetado para reproduzir tanto quanto possível um ambiente semelhante ao MATLAB em termos de visualização gráfica e forma sintática. Esta abordagem provou bem-sucedido, pois soube explorar a experiência do software (MATLAB) que está no mercado há vários anos e hoje é difundido em todos os profissionais técnico-científicos círculos. O matplotlib não é apenas baseado em um esquema conhecido e bastante familiar para a maioria dos especialistas na área, mas também explora as otimizações que ao longo dos anos levaram a uma dedutibilidade e simplicidade na sua utilização, o que torna esta biblioteca também uma excelente escolha para aqueles que abordam a visualização de dados pela primeira vez, especialmente aqueles sem nenhuma experiência com aplicativos como MATLAB ou similares."
   ]
  },
  {
   "cell_type": "markdown",
   "metadata": {},
   "source": [
    "Além da simplicidade e dedutibilidade, a biblioteca matplotlib herdou interatividade do MATLAB também. Ou seja, o analista pode inserir comando após comando para controlar o desenvolvimento gradual de uma representação gráfica de dados. Este modo é adequado para as abordagens mais interativas do Python como o IPython QtConsole e IPython Notebook (consulte o Capítulo 2), fornecendo assim um ambiente para análise de dados que tem pouco a invejar de outras ferramentas como Mathematica, IDL ou MATLAB."
   ]
  },
  {
   "cell_type": "markdown",
   "metadata": {},
   "source": [
    "A genialidade de quem desenvolveu esta bela biblioteca foi usar e incorporar as coisas boas atualmente disponíveis e em uso na ciência. Isso não é apenas limitado, como nós vimos, ao modo de operação do MATLAB e similares, mas também aos modelos de formatação de expressões científicas e símbolos representados pelo LaTeX. Por causa de sua grande capacidade de exibição e apresentação de expressões científicas, o LaTeX tem sido um elemento insubstituível em qualquer publicação ou documentação científica, onde a necessidade de representar visualmente expressões como integrais, somatórios e derivadas é obrigatório. \n",
    "\n",
    "Portanto matplotlib integra este notável instrumento para melhorar a capacidade representativa das cartas."
   ]
  },
  {
   "cell_type": "markdown",
   "metadata": {},
   "source": [
    "Além disso, você não deve esquecer que o matplotlib não é um aplicativo separado, mas uma biblioteca de uma linguagem de programação como Python. Portanto, também aproveita ao máximo o potencial que as linguagens de programação oferecem. matplotlib parece uma biblioteca de gráficos que permite gerenciar programaticamente os elementos gráficos que compõem um gráfico para que a exibição gráfica possa ser controlada em sua totalidade. A capacidade de programar a representação gráfica permite o gerenciamento da reprodutibilidade dos dados representação em vários ambientes e especialmente quando você faz alterações ou quando os dados são atualizados."
   ]
  },
  {
   "cell_type": "markdown",
   "metadata": {},
   "source": [
    "Além disso, como matplotlib é uma biblioteca Python, ela permite que você explore todo o potencial de outras bibliotecas disponíveis para qualquer desenvolvedor que implemente com esta linguagem. De fato, no que diz respeito à análise de dados, o matplotlib normalmente coopera com um conjunto de outras bibliotecas como NumPy e pandas, mas muitas outras bibliotecas podem ser integradas sem qualquer problema."
   ]
  },
  {
   "cell_type": "markdown",
   "metadata": {},
   "source": [
    "Finalmente, as representações gráficas obtidas através da codificação com esta biblioteca podem ser exportados nos formatos gráficos mais comuns (como PNG e SVG) e depois usados  em outras aplicações, documentação, páginas web, etc."
   ]
  },
  {
   "cell_type": "markdown",
   "metadata": {},
   "source": [
    "#### A arquitetura matplotlib"
   ]
  },
  {
   "cell_type": "markdown",
   "metadata": {},
   "source": [
    "Uma das principais tarefas que o matplotlib deve assumir é fornecer um conjunto de funções e ferramentas que permitem a representação e manipulação de uma Figura (o objeto principal), juntamente com todos os objetos internos de que é composto. No entanto, matplotlib não apenas lida com gráficos, mas também fornece todas as ferramentas para o tratamento de eventos e a capacidade de animar gráficos. Portanto, graças a esses recursos adicionais, o matplotlib prova ser capaz de produzindo gráficos interativos com base nos eventos acionados pressionando uma tecla no teclado ou no movimento do mouse."
   ]
  },
  {
   "cell_type": "markdown",
   "metadata": {},
   "source": [
    "A arquitetura do matplotlib é estruturada logicamente em três camadas, que são colocados em três níveis diferentes. A comunicação é unidirecional, ou seja, cada camada pode se comunicar com a camada subjacente, enquanto as camadas inferiores não pode se comunicar com os superiores."
   ]
  },
  {
   "cell_type": "markdown",
   "metadata": {},
   "source": [
    "As três camadas da arquitetura matplotlib\n",
    "\n",
    "As três camadas são as seguintes:\n",
    "\n",
    "• Scripts\n",
    "• Artista\n",
    "• Processo interno"
   ]
  },
  {
   "cell_type": "markdown",
   "metadata": {},
   "source": [
    "#### Camada de back-end"
   ]
  },
  {
   "cell_type": "markdown",
   "metadata": {},
   "source": [
    "No diagrama da arquitetura matplotlib, a camada que funciona no nível mais baixo é a camada Back-end. Essa camada contém as APIs matplotlib, um conjunto de classes que executam o papel de implementação dos elementos gráficos em um nível baixo.\n",
    "\n",
    "• FigureCanvas é o objeto que incorpora o conceito de área de desenho.\n",
    "• Renderer é o objeto que desenha no FigureCanvas.\n",
    "• Evento é o objeto que manipula as entradas do usuário (teclado e eventos do mouse)."
   ]
  },
  {
   "cell_type": "markdown",
   "metadata": {},
   "source": [
    "#### Camada do Artista"
   ]
  },
  {
   "cell_type": "markdown",
   "metadata": {},
   "source": [
    "Como camada intermediária, temos uma camada chamada Artista. Todos os elementos que compõem um gráfico, como título, rótulos de eixo, marcadores, etc., são instâncias do objeto Artista. Cada um de essas instâncias desempenham seu papel dentro de uma estrutura hierárquica\n",
    "\n",
    "Existem duas classes Artist: primitiva e composta.\n",
    "\n",
    "• Os artistas primitivos são objetos individuais que constituem a base elementos para formar uma representação gráfica em um gráfico, por exemplo, um Line2D, ou como uma figura geométrica como um retângulo ou círculo, ou mesmo pedaços de texto.\n",
    "\n",
    "• Os artistas compostos são aqueles elementos gráficos presentes em um gráfico que são compostos por vários elementos de base, a saber, o primitivo artistas. Os artistas compostos são, por exemplo, o Axis, Ticks, Axes e Figuras"
   ]
  },
  {
   "cell_type": "markdown",
   "metadata": {},
   "source": [
    "Geralmente, trabalhando neste nível você terá que lidar frequentemente com objetos em níveis mais altos\n",
    "hierarquia como Figura, Eixos e Eixo. Portanto, é importante entender completamente o que esses\n",
    "objetos são e qual o papel que eles desempenham dentro da representação gráfica. Figura 7-4\n",
    "mostra os três principais objetos Artist (artistas compostos) que geralmente são usados em todos\n",
    "implementações realizadas neste nível."
   ]
  },
  {
   "cell_type": "markdown",
   "metadata": {},
   "source": [
    "• Figura é o objeto com o nível mais alto na hierarquia. Isto\n",
    "corresponde a toda a representação gráfica e geralmente pode\n",
    "contém muitos eixos.\n",
    "\n",
    "• Eixos é geralmente o que você quer dizer com plotagem ou gráfico. Cada objeto do eixo pertence a apenas uma Figura, e é caracterizada por dois Eixos Artísticos (três no caso tridimensional). Outros objetos, como o título, o rótulo x e o rótulo y pertencem a este artista composto.\n",
    "\n",
    "• Objetos de eixo que levam em consideração os valores numéricos a serem representados em Eixos, definir os limites e gerenciar os ticks (o marca nos eixos) e rótulos de escala (o texto do rótulo representado em cada marcação). A posição do tick é ajustada por um objeto chamado Locator enquanto o rótulo do tick de formatação é regulado por um objeto chamado Formatador."
   ]
  },
  {
   "cell_type": "markdown",
   "metadata": {},
   "source": [
    "#### Camada de script (pyplot)"
   ]
  },
  {
   "cell_type": "markdown",
   "metadata": {},
   "source": [
    "As classes Artist e suas funções relacionadas (a API matplotlib) são particularmente adequadas para todos os desenvolvedores, especialmente para aqueles que trabalham em servidores de aplicativos da Web ou desenvolvem a GUI. Mas para fins de cálculo e, em particular, para análise e visualização de dados, a camada de script é a melhor. Essa camada consiste em uma interface chamada pyplot."
   ]
  },
  {
   "cell_type": "markdown",
   "metadata": {},
   "source": [
    "#### pylab and pyplot"
   ]
  },
  {
   "cell_type": "markdown",
   "metadata": {},
   "source": [
    "Em geral, fala-se de pylab e pyplot. Mas qual é a diferença entre esses dois pacotes? Pylab é um módulo instalado junto com matplotlib, enquanto pyplot é um módulo interno do matplotlib. Muitas vezes você encontrará referências a um ou outro abordagem."
   ]
  },
  {
   "cell_type": "code",
   "execution_count": null,
   "metadata": {},
   "outputs": [],
   "source": [
    "from pylab import *\n",
    "#and\n",
    "import matplotlib.pyplot as plt\n",
    "import numpy as np"
   ]
  },
  {
   "cell_type": "markdown",
   "metadata": {},
   "source": [
    "O Pylab combina a funcionalidade do pyplot com os recursos do NumPy em um único namespace e, portanto, você não precisa importar o NumPy separadamente. Além disso, se você importar as funções pylab, pyplot e NumPy podem ser chamadas diretamente sem qualquer referência a um módulo (namespace), tornando o ambiente mais semelhante ao MATLAB."
   ]
  },
  {
   "cell_type": "code",
   "execution_count": null,
   "metadata": {},
   "outputs": [],
   "source": [
    "plot(x,y)\n",
    "array([1,2,3,4])\n",
    "# Instead of\n",
    "plt.plot()\n",
    "np.array([1,2,3,4])"
   ]
  },
  {
   "cell_type": "markdown",
   "metadata": {},
   "source": [
    "O pacote pyplot fornece a interface Python clássica para programar o biblioteca matplotlib, tem seu próprio namespace e requer a importação do NumPy pacote separadamente. Essa abordagem é a escolhida para este livro; é o assunto principal este capítulo; e será usado para o resto do livro. Na verdade, essa escolha é compartilhada e aprovado pela maioria dos desenvolvedores Python."
   ]
  },
  {
   "cell_type": "markdown",
   "metadata": {},
   "source": [
    "#### pyplot"
   ]
  },
  {
   "cell_type": "markdown",
   "metadata": {},
   "source": [
    "The pyplot module is a collection of command-style functions that allow you to use\n",
    "matplotlib much like MATLAB. Each pyplot function will operate or make some changes\n",
    "to the Figure object, for example, the creation of the Figure itself, the creation of a\n",
    "plotting area, representation of a line, decoration of the plot with a label, etc.\n",
    "\n",
    "Pyplot also is stateful, in that it tracks the status of the current figure and its plotting\n",
    "area. The functions called act on the current figure."
   ]
  },
  {
   "cell_type": "markdown",
   "metadata": {},
   "source": [
    "#### A Simple Interactive Chart"
   ]
  },
  {
   "cell_type": "markdown",
   "metadata": {},
   "source": [
    "To get familiar with the matplotlib library and in a particular way with Pyplot, you will\n",
    "start creating a simple interactive chart. Using matplotlib, this operation is very simple;\n",
    "in fact, you can achieve it using only three lines of code.\n",
    "\n",
    "But first you need to import the pyplot package and rename it as plt."
   ]
  },
  {
   "cell_type": "code",
   "execution_count": null,
   "metadata": {},
   "outputs": [],
   "source": [
    "import matplotlib.pyplot as plt"
   ]
  },
  {
   "cell_type": "markdown",
   "metadata": {},
   "source": [
    "In Python, the constructors generally are not necessary; everything is already\n",
    "implicitly defined. In fact when you import the package, the plt object with all its\n",
    "graphics capabilities have already been instantiated and ready to use. In fact, you simply\n",
    "use the plot() function to pass the values to be plotted."
   ]
  },
  {
   "cell_type": "markdown",
   "metadata": {},
   "source": [
    "Thus, you can simply pass the values that you want to represent as a sequence of\n",
    "integers."
   ]
  },
  {
   "cell_type": "code",
   "execution_count": null,
   "metadata": {},
   "outputs": [],
   "source": [
    "plt.plot([1,2,3,4])"
   ]
  },
  {
   "cell_type": "markdown",
   "metadata": {},
   "source": [
    "As you can see, a Line2D object has been generated. The object is a line that\n",
    "represents the linear trend of the points included in the chart.\n",
    "\n",
    "Now it is all set. You just have to give the command to show the plot using the show()\n",
    "function."
   ]
  },
  {
   "cell_type": "code",
   "execution_count": null,
   "metadata": {},
   "outputs": [],
   "source": [
    "plt.show()"
   ]
  },
  {
   "cell_type": "markdown",
   "metadata": {},
   "source": [
    "The result will be the one shown in Figure 7-5. It looks just a window, called the\n",
    "plotting window, with a toolbar and the plot represented within it, just as with MATLAB."
   ]
  },
  {
   "cell_type": "markdown",
   "metadata": {},
   "source": [
    "#### The Plotting Window"
   ]
  },
  {
   "cell_type": "code",
   "execution_count": null,
   "metadata": {},
   "outputs": [],
   "source": [
    "import matplotlib.pyplot as plt\n",
    "plt.plot([1,2,3,4])\n",
    "plt.show()"
   ]
  },
  {
   "cell_type": "markdown",
   "metadata": {},
   "source": [
    "If you are using the IPython QtConsole, you may have noticed that after calling the\n",
    "plot() function the chart is displayed directly without explicitly invoking the show()\n",
    "function (see Figure 7-6)."
   ]
  },
  {
   "cell_type": "markdown",
   "metadata": {},
   "source": [
    "If you pass only a list of numbers or an array to the plt.plot() function, matplotlib\n",
    "assumes it is the sequence of y values of the chart, and it associates them to the natural\n",
    "sequence of values x: 0,1,2,3, ... ."
   ]
  },
  {
   "cell_type": "markdown",
   "metadata": {},
   "source": [
    "Generally a plot represents value pairs (x, y), so if you want to define a chart\n",
    "correctly, you must define two arrays, the first containing the values on the x-axis and\n",
    "the second containing the values on the y-axis. Moreover, the plot() function can\n",
    "accept a third argument, which describes the specifics of how you want the point to be\n",
    "represented on the chart."
   ]
  },
  {
   "cell_type": "markdown",
   "metadata": {},
   "source": [
    "#### Set the Properties of the Plot"
   ]
  },
  {
   "cell_type": "markdown",
   "metadata": {},
   "source": [
    "As you can see in Figure 7-6, the points were represented by a blue line. In fact, if you do\n",
    "not specify otherwise, the plot is represented taking into account a default configuration\n",
    "of the plt.plot() function:\n",
    "\n",
    "• The size of the axes matches perfectly with the range of the input data\n",
    "• There is neither a title nor axis labels\n",
    "• There is no legend\n",
    "• A blue line connecting the points is drawn\n",
    "\n",
    "Therefore you need to change this representation to have a real plot in which each\n",
    "pair of values (x, y) is represented by a red dot (see Figure 7-7).\n",
    "\n",
    "If you’re working on IPython, close the window to get back to the active prompt for\n",
    "entering new commands. Then you have to call back the show() function to observe the\n",
    "changes made to the plot."
   ]
  },
  {
   "cell_type": "code",
   "execution_count": null,
   "metadata": {},
   "outputs": [],
   "source": [
    "plt.plot([1,2,3,4],[1,4,9,16],'ro')\n",
    "plt.show()"
   ]
  },
  {
   "cell_type": "markdown",
   "metadata": {},
   "source": [
    "Instead, if you’re working on Jupyter QtConsole you see a different plot for each new\n",
    "command you enter."
   ]
  },
  {
   "cell_type": "markdown",
   "metadata": {},
   "source": [
    "You can define the range both on the x-axis and on the y-axis by defining the details\n",
    "of a list [xmin, xmax, ymin, ymax] and then passing it as an argument to the axis()\n",
    "function."
   ]
  },
  {
   "cell_type": "markdown",
   "metadata": {},
   "source": [
    "You can set several properties, one of which is the title that can be entered using the\n",
    "title() function."
   ]
  },
  {
   "cell_type": "code",
   "execution_count": null,
   "metadata": {},
   "outputs": [],
   "source": [
    "plt.axis([0,5,0,20])\n",
    "plt.title('My first plot')\n",
    "plt.plot([1,2,3,4],[1,4,9,16],'ro')"
   ]
  },
  {
   "cell_type": "markdown",
   "metadata": {},
   "source": [
    "In Figure 7-8 you can see how the new settings made the plot more readable. In\n",
    "fact, the end points of the dataset are now represented within the plot rather than at the\n",
    "edges. Also the title of the plot is now visible at the top."
   ]
  },
  {
   "cell_type": "markdown",
   "metadata": {},
   "source": [
    "#### matplotlib and NumPy"
   ]
  },
  {
   "cell_type": "markdown",
   "metadata": {},
   "source": [
    "Even the matplot library, despite being a fully graphical library, has its foundation as\n",
    "the NumPy library. In fact, you have seen so far how to pass lists as arguments, both to\n",
    "represent the data and to set the extremes of the axes. Actually, these lists have been\n",
    "converted internally in NumPy arrays.\n",
    "\n",
    "Therefore, you can directly enter NumPy arrays as input data. This array of data,\n",
    "which have been processed by pandas, can be directly used with matplotlib without\n",
    "further processing.\n",
    "\n",
    "As an example, you see how it is possible to plot three different trends in the same\n",
    "plot (see Figure 7-9). You can choose for this example the sin() function belonging to\n",
    "the math module. So you will need to import it. To generate points following a sinusoidal\n",
    "trend, you will use the NumPy library. Generate a series of points on the x-axis using the\n",
    "arange() function, while for the values on the y-axis you will use the map() function to\n",
    "apply the sin() function on all the items of the array (without using a for loop)."
   ]
  },
  {
   "cell_type": "code",
   "execution_count": null,
   "metadata": {},
   "outputs": [],
   "source": [
    "import math\n",
    "import numpy as np\n",
    "\n",
    "t = np.arange(0,2.5,0.1)\n",
    "y1 = np.sin(math.pi*t)\n",
    "y2 = np.sin(math.pi*t+math.pi/2)\n",
    "y3 = np.sin(math.pi*t-math.pi/2)\n",
    "plt.plot(t,y1,'b*',t,y2,'g^',t,y3,'ys')"
   ]
  },
  {
   "cell_type": "markdown",
   "metadata": {},
   "source": [
    "As you can see in Figure 7-9, the plot represents the three different temporal trends\n",
    "with three different colors and markers. In these cases, when the trend of a function is\n",
    "so obvious, the plot is perhaps not the most appropriate representation, but it is better\n",
    "to use the lines (see Figure 7-10). To differentiate the three trends with something other\n",
    "than color, you can use the pattern composed of different combinations of dots and\n",
    "dashes ( - and . )."
   ]
  },
  {
   "cell_type": "code",
   "execution_count": null,
   "metadata": {},
   "outputs": [],
   "source": [
    "plt.plot(t,y1,'b--',t,y2,'g',t,y3,'r-.')"
   ]
  },
  {
   "cell_type": "markdown",
   "metadata": {},
   "source": [
    "#### Using the kwargs"
   ]
  },
  {
   "cell_type": "markdown",
   "metadata": {},
   "source": [
    "The objects that make up a chart have many attributes that characterize them. These\n",
    "attributes are all default values, but can be set through the use of keyword args, often\n",
    "referred as kwargs.\n",
    "\n",
    "These keywords are passed as arguments to functions. In reference documentation\n",
    "of the various functions of the matplotlib library, you will always find them referred to as\n",
    "kwargs in the last position. For example the plot() function that you are using in these\n",
    "examples is referred to in the following way."
   ]
  },
  {
   "cell_type": "code",
   "execution_count": null,
   "metadata": {},
   "outputs": [],
   "source": [
    "matplotlib.pyplot.plot(*args, **kwargs)"
   ]
  },
  {
   "cell_type": "code",
   "execution_count": null,
   "metadata": {},
   "outputs": [],
   "source": [
    "plt.plot([1,2,4,2,1,0,1,2,1,4],linewidth=2.0)"
   ]
  },
  {
   "cell_type": "markdown",
   "metadata": {},
   "source": [
    "#### Working with Multiple Figures and Axes"
   ]
  },
  {
   "cell_type": "markdown",
   "metadata": {},
   "source": [
    "So far you have seen how all pyplot commands are routed to the display of a single figure.\n",
    "Actually, matplotlib allows you to manage multiple figures simultaneously, and within\n",
    "each figure, it offers the ability to view different plots defined as subplots.\n",
    "\n",
    "So when you are working with pyplot, you must always keep in mind the concept of\n",
    "the current Figure and current Axes (that is, the plot shown within the figure).\n",
    "\n",
    "Now you will see an example where two subplots are represented in a single figure.\n",
    "The subplot() function, in addition to subdividing the figure in different drawing areas,\n",
    "is used to focus the commands on a specific subplot.\n",
    "\n",
    "The argument passed to the subplot() function sets the mode of subdivision and\n",
    "determines which is the current subplot. The current subplot will be the only figure\n",
    "that will be affected by the commands. The argument of the subplot() function is\n",
    "composed of three integers. The first number defines how many parts the figure is split\n",
    "into vertically. The second number defines how many parts the figure is divided into\n",
    "horizontally. The third issue selects which is the current subplot on which you can direct\n",
    "commands.\n",
    "\n",
    "Now you will display two sinusoidal trends (sine and cosine) and the best way to do\n",
    "that is to divide the canvas vertically in two horizontal subplots (as shown in Figure 7-12).\n",
    "So the numbers to pass as an argument are 211 and 212."
   ]
  },
  {
   "cell_type": "code",
   "execution_count": null,
   "metadata": {},
   "outputs": [],
   "source": [
    "t = np.arange(0,5,0.1)\n",
    "y1 = np.sin(2*np.pi*t)\n",
    "y2 = np.sin(2*np.pi*t)\n",
    "\n",
    "plt.subplot(211)\n",
    "plt.plot(t,y1,'b-.')\n",
    "plt.subplot(212)\n",
    "plt.plot(t,y2,'r--')"
   ]
  },
  {
   "cell_type": "markdown",
   "metadata": {},
   "source": [
    "Now you do the same thing by dividing the figure in two vertical subplots. The\n",
    "numbers to be passed as arguments to the subplot() function are 121 and 122\n",
    "(as shown in Figure 7-13)."
   ]
  },
  {
   "cell_type": "code",
   "execution_count": null,
   "metadata": {},
   "outputs": [],
   "source": [
    "t = np.arange(0.,1.,0.05)\n",
    "y1 = np.sin(2*np.pi*t)\n",
    "y2 = np.cos(2*np.pi*t)\n",
    "\n",
    "plt.subplot(121)\n",
    "plt.plot(t,y1,'b-.')\n",
    "plt.subplot(122)\n",
    "plt.plot(t,y2,'r--')"
   ]
  },
  {
   "cell_type": "markdown",
   "metadata": {},
   "source": [
    "#### Adding Elements to the Chart"
   ]
  },
  {
   "cell_type": "markdown",
   "metadata": {},
   "source": [
    "In order to make a chart more informative, many times it is not enough to represent the\n",
    "data using lines or markers and assign the range of values using two axes. In fact, there\n",
    "are many other elements that can be added to a chart in order to enrich it with additional\n",
    "information.\n",
    "\n",
    "In this section you will see how to add elements to the chart as text labels, a legend,\n",
    "and so on."
   ]
  },
  {
   "cell_type": "markdown",
   "metadata": {},
   "source": [
    "#### Adding Text"
   ]
  },
  {
   "cell_type": "markdown",
   "metadata": {},
   "source": [
    "You’ve already seen how you can add the title to a chart with the title() function. Two\n",
    "other textual indications you can add the axis labels. This is possible through the use of\n",
    "two other specific functions, called xlabel() and ylabel(). These functions take as an\n",
    "argument a string, which will be the shown text."
   ]
  },
  {
   "cell_type": "markdown",
   "metadata": {},
   "source": [
    "Now add two axis labels to the chart. They will describe which kind of value is\n",
    "assigned to each axis"
   ]
  },
  {
   "cell_type": "code",
   "execution_count": null,
   "metadata": {},
   "outputs": [],
   "source": [
    "plt.axis([0,5,0,20])\n",
    "plt.title('My first plot')\n",
    "plt.xlabel('Counting')\n",
    "plt.ylabel('Square values')\n",
    "plt.plot([1,2,3,4],[1,4,9,16],'ro')"
   ]
  },
  {
   "cell_type": "markdown",
   "metadata": {},
   "source": [
    "Thanks to the keywords, you can change the characteristics of the text. For example,\n",
    "you can modify the title by changing the font and increasing the size of the characters.\n",
    "You can also modify the color of the axis labels to accentuate the title of the plot"
   ]
  },
  {
   "cell_type": "code",
   "execution_count": null,
   "metadata": {},
   "outputs": [],
   "source": [
    "plt.axis([0,5,0,20])\n",
    "plt.title('My first plot',fontsize=20,fontname='Times New Roman')\n",
    "plt.xlabel('Counting',color='gray')\n",
    "plt.ylabel('Square values',color='gray')\n",
    "plt.plot([1,2,3,4],[1,4,9,16],'ro')"
   ]
  },
  {
   "cell_type": "markdown",
   "metadata": {},
   "source": [
    "But matplotlib is not limited to this: pyplot allows you to add text to any position\n",
    "within a chart. This feature is performed by a specific function called text()."
   ]
  },
  {
   "cell_type": "code",
   "execution_count": null,
   "metadata": {},
   "outputs": [],
   "source": [
    "text(x,y,s, fontdict=None, **kwargs)"
   ]
  },
  {
   "cell_type": "markdown",
   "metadata": {},
   "source": [
    "The first two arguments are the coordinates of the location where you want to place\n",
    "the text. s is the string of text to be added, and fontdict (optional) is the font that you\n",
    "want to use. Finally, you can add the keywords.\n",
    "\n",
    "Add the label to each point of the plot. Because the first two arguments to the text()\n",
    "function are the coordinates of the graph, you have to use the coordinates of the four\n",
    "points of the plot shifted slightly on the y-axis."
   ]
  },
  {
   "cell_type": "code",
   "execution_count": null,
   "metadata": {},
   "outputs": [],
   "source": [
    "plt.axis([0,5,0,20])\n",
    "plt.title('My first plot',fontsize=20,fontname='Times New Roman')\n",
    "plt.xlabel('Counting',color='gray')\n",
    "plt.ylabel('Square values',color='gray')\n",
    "plt.text(1,1.5,'First')\n",
    "plt.text(2,4.5,'Second')\n",
    "plt.text(3,9.5,'Third')\n",
    "plt.text(4,16.5,'Fourth')\n",
    "plt.plot([1,2,3,4],[1,4,9,16],'ro')"
   ]
  },
  {
   "cell_type": "markdown",
   "metadata": {},
   "source": [
    "Since matplotlib is a graphics library designed to be used in scientific circles, it\n",
    "must be able to exploit the full potential of scientific language, including mathematical\n",
    "expressions. matplotlib offers the possibility to integrate LaTeX expressions, thereby\n",
    "allowing you to insert mathematical expressions within the chart.\n",
    "\n",
    "To do this, you can add a LaTeX expression to the text, enclosing it between two $\n",
    "characters. The interpreter will recognize them as LaTeX expressions and convert them\n",
    "to the corresponding graphic, which can be a mathematical expression, a formula,\n",
    "mathematical characters, or just Greek letters. Generally you have to precede the string\n",
    "containing LaTeX expressions with an r, which indicates raw text, in order to avoid\n",
    "unintended escape sequences.\n",
    "\n",
    "Here, you can also use the keywords to further enrich the text to be shown in the\n",
    "plot. Therefore, as an example, you can add the formula describing the trend followed by\n",
    "the point of the plot and enclose it in a colored bounding box\n",
    "\n"
   ]
  },
  {
   "cell_type": "code",
   "execution_count": null,
   "metadata": {},
   "outputs": [],
   "source": [
    "plt.axis([0,5,0,20])\n",
    "plt.title('My first plot',fontsize=20,fontname='Times New Roman')\n",
    "plt.xlabel('Counting',color='gray')\n",
    "plt.ylabel('Square values',color='gray')\n",
    "plt.text(1,1.5,'First')\n",
    "plt.text(2,4.5,'Second')\n",
    "plt.text(3,9.5,'Third')\n",
    "plt.text(4,16.5,'Fourth')\n",
    "plt.text(1.1,12,r'$y = x^2$',fontsize=20,bbox={'facecolor': 'yellow', 'alpha':0.2})\n",
    "plt.plot([1,2,3,4],[1,4,9,16],'ro')"
   ]
  },
  {
   "cell_type": "markdown",
   "metadata": {},
   "source": [
    "To get a complete view on the potential offered by LaTeX, consult Appendix A of\n",
    "this book."
   ]
  },
  {
   "cell_type": "markdown",
   "metadata": {},
   "source": [
    "#### Adding a Grid"
   ]
  },
  {
   "cell_type": "markdown",
   "metadata": {},
   "source": [
    "Another element you can add to a plot is a grid. Often its addition is necessary in order to\n",
    "better understand the position occupied by each point on the chart.\n",
    "\n",
    "Adding a grid to a chart is a very simple operation: just add the grid() function,\n",
    "passing True as an argument"
   ]
  },
  {
   "cell_type": "code",
   "execution_count": null,
   "metadata": {},
   "outputs": [],
   "source": [
    "plt.axis([0,5,0,20])\n",
    "plt.title('My first plot',fontsize=20,fontname='Times New Roman')\n",
    "plt.xlabel('Counting',color='gray')\n",
    "plt.ylabel('Square values',color='gray')\n",
    "plt.text(1,1.5,'First')\n",
    "plt.text(2,4.5,'Second')\n",
    "plt.text(3,9.5,'Third')\n",
    "plt.text(4,16.5,'Fourth')\n",
    "plt.text(1.1,12,r'$y = x^2$',fontsize=20,bbox={'facecolor':'yellow','alpha':0.2})\n",
    "plt.grid(True)\n",
    "plt.plot([1,2,3,4],[1,4,9,16],'ro')"
   ]
  },
  {
   "cell_type": "markdown",
   "metadata": {},
   "source": [
    "#### Adding a Legend"
   ]
  },
  {
   "cell_type": "markdown",
   "metadata": {},
   "source": [
    "Another very important component that should be present in any chart is the legend.\n",
    "pyplot also provides a specific function for this type of object: legend().\n",
    "\n",
    "Add a legend to your chart with the legend() function and a string indicating the\n",
    "words with which you want the series to be shown. In this example, you assign the First\n",
    "series name to the input data array"
   ]
  },
  {
   "cell_type": "code",
   "execution_count": null,
   "metadata": {},
   "outputs": [],
   "source": [
    "plt.axis([0,5,0,20])\n",
    "plt.title('My first plot',fontsize=20,fontname='Times New Roman')\n",
    "plt.xlabel('Counting',color='gray')\n",
    "plt.ylabel('Square values',color='gray')\n",
    "plt.text(2,4.5,'Second')\n",
    "plt.text(3,9.5,'Third')\n",
    "plt.text(4,16.5,'Fourth')\n",
    "plt.text(1.1,12,'$y = x^2$',fontsize=20,bbox={'facecolor':'yellow','alpha':0.2})\n",
    "plt.grid(True)\n",
    "plt.plot([1,2,3,4],[1,4,9,16],'ro')\n",
    "plt.legend(['First series'])"
   ]
  },
  {
   "cell_type": "markdown",
   "metadata": {},
   "source": [
    "As you can see in Figure 7-19, the legend is added in the upper-right corner by\n",
    "default. Again if you want to change this behavior you will need to add a few kwargs. For\n",
    "example, the position occupied by the legend is set by assigning numbers from 0 to 10 to\n",
    "the loc kwarg. Each of these numbers characterizes one of the corners of the chart\n",
    "(see Table 7-1). A value of 1 is the default, that is, the upper-right corner. In the next\n",
    "example, you will move the legend in the upper-left corner so it will not overlap with the\n",
    "points represented in the plot."
   ]
  },
  {
   "cell_type": "markdown",
   "metadata": {},
   "source": [
    "|Location Code | Location String|\n",
    "|---|---|\n",
    "|0 | best|\n",
    "|1 | upper-right|\n",
    "|2 | upper-left|\n",
    "|3 | lower-right|\n",
    "|4 | lower-left|\n",
    "|5 | right|\n",
    "|6 | center-left|\n",
    "|7 | center-right|\n",
    "|8 | lower-center|\n",
    "|9 | upper-center|\n",
    "|10 | center|"
   ]
  },
  {
   "cell_type": "markdown",
   "metadata": {},
   "source": [
    "Before you begin to modify the code to move the legend, I want to add a small notice.\n",
    "Generally, the legends are used to indicate the definition of a series to the reader via\n",
    "a label associated with a color and/or a marker that distinguishes it in the plot. So far\n",
    "in the examples, you have used a single series that was expressed by a single plot()\n",
    "function. Now, you have to focus on a more general case in which the same plot shows\n",
    "more series simultaneously. Each series in the chart will be characterized by a specific\n",
    "color and a specific marker (see Figure 7-20). In terms of code, instead, each series will be\n",
    "characterized by a call to the plot() function and the order in which they are defined will\n",
    "correspond to the order of the text labels passed as an argument to the legend() function."
   ]
  },
  {
   "cell_type": "code",
   "execution_count": null,
   "metadata": {},
   "outputs": [],
   "source": [
    "import matplotlib.pyplot as plt\n",
    "plt.axis([0,5,0,20])\n",
    "plt.title('My first plot',fontsize=20,fontname='Times New Roman')\n",
    "plt.xlabel('Counting',color='gray')\n",
    "plt.ylabel('Square values',color='gray')\n",
    "plt.text(1,1.5,'First')\n",
    "plt.text(2,4.5,'Second')\n",
    "plt.text(3,9.5,'Third')\n",
    "plt.text(4,16.5,'Fourth')\n",
    "plt.text(1.1,12,'$y = x^2$',fontsize=20,bbox={'facecolor':'yellow','alpha':0.2})\n",
    "plt.grid(True)\n",
    "plt.plot([1,2,3,4],[1,4,9,16],'ro')\n",
    "plt.plot([1,2,3,4],[0.8,3.5,8,15],'g^')\n",
    "plt.plot([1,2,3,4],[0.5,2.5,4,12],'b*')\n",
    "plt.legend(['First series','Second series','Third series'],loc=2)"
   ]
  },
  {
   "cell_type": "markdown",
   "metadata": {},
   "source": [
    "#### Saving Your Charts"
   ]
  },
  {
   "cell_type": "markdown",
   "metadata": {},
   "source": [
    "In this section you will learn how to save your chart in different ways depending on your\n",
    "needs. If you need to reproduce your chart in different notebooks or Python sessions, or\n",
    "reuse them in future projects, it is a good practice to save the Python code. On the other\n",
    "hand, if you need to make reports or presentations, it can be very useful to save your\n",
    "chart as an image. Moreover, it is possible to save your chart as a HTML page, and this\n",
    "could be very useful when you need to share your work on Web."
   ]
  },
  {
   "cell_type": "markdown",
   "metadata": {},
   "source": [
    "#### Saving the Code"
   ]
  },
  {
   "cell_type": "markdown",
   "metadata": {},
   "source": [
    "As you can see from the examples in the previous sections, the code concerning the\n",
    "representation of a single chart is growing into a fair number of rows. Once you think\n",
    "you’ve reached a good point in your development process, you can choose to save all\n",
    "rows of code in a .py file that you can recall at any time."
   ]
  },
  {
   "cell_type": "markdown",
   "metadata": {},
   "source": [
    "You can use the magic command save% followed by the name of the file you want to\n",
    "save followed by the number of input prompts containing the row of code that you want\n",
    "to save. If all the code is written in only one prompt, as your case, you have to add only\n",
    "its number; otherwise if you want to save the code written in many prompts, for example\n",
    "from 10 to 20, you have to indicate this range with the two numbers separated by a -, that\n",
    "is, 10-20."
   ]
  },
  {
   "cell_type": "markdown",
   "metadata": {},
   "source": [
    "In your case, you would save the Python code underlying the representation of your\n",
    "first chart contained into the input prompt with the number 171."
   ]
  },
  {
   "cell_type": "code",
   "execution_count": null,
   "metadata": {},
   "outputs": [],
   "source": [
    "import matplotlib.pyplot as plt"
   ]
  },
  {
   "cell_type": "markdown",
   "metadata": {},
   "source": [
    "You need to insert the following command to save the code into a new .py file."
   ]
  },
  {
   "cell_type": "code",
   "execution_count": null,
   "metadata": {},
   "outputs": [],
   "source": [
    "%save my_first_chart 171"
   ]
  },
  {
   "cell_type": "markdown",
   "metadata": {},
   "source": [
    "After you launch the command, you will find the my_first_chart.py file in your\n",
    "working directory"
   ]
  },
  {
   "cell_type": "code",
   "execution_count": null,
   "metadata": {},
   "outputs": [],
   "source": [
    "# my_first_chart.py\n",
    "\n",
    "# coding: utf-8\n",
    "import matplotlib.pyplot as plt\n",
    "plt.axis([0,5,0,20])\n",
    "plt.title('My first plot',fontsize=20,fontname='Times New Roman')\n",
    "plt.xlabel('Counting',color='gray')\n",
    "plt.ylabel('Square values',color='gray')\n",
    "plt.text(1,1.5,'First')\n",
    "plt.text(2,4.5,'Second')\n",
    "plt.text(3,9.5,'Third')\n",
    "plt.text(4,16.5,'Fourth')\n",
    "plt.text(1.1,12,'$y = x^2$',fontsize=20,bbox={'facecolor':'yellow', 'alpha':0.2})\n",
    "plt.grid(True)\n",
    "plt.plot([1,2,3,4],[1,4,9,16],'ro')\n",
    "plt.plot([1,2,3,4],[0.8,3.5,8,15],'g^')\n",
    "plt.plot([1,2,3,4],[0.5,2.5,4,12],'b*')\n",
    "plt.legend(['First series','Second series','Third series'],loc=2)"
   ]
  },
  {
   "cell_type": "markdown",
   "metadata": {},
   "source": [
    "Later, when you open a new IPython session, you will have your chart and start to\n",
    "change the code at the point where you had saved it by entering the following command:"
   ]
  },
  {
   "cell_type": "code",
   "execution_count": null,
   "metadata": {},
   "outputs": [],
   "source": [
    "ipython qtconsole --matplotlib inline -m my_first_chart.py"
   ]
  },
  {
   "cell_type": "markdown",
   "metadata": {},
   "source": [
    "Or you can reload the entire code in a single prompt in the QtConsole using the\n",
    "magic command %load."
   ]
  },
  {
   "cell_type": "code",
   "execution_count": null,
   "metadata": {},
   "outputs": [],
   "source": [
    "%load my_first_chart.py"
   ]
  },
  {
   "cell_type": "markdown",
   "metadata": {},
   "source": [
    "Or you can run it during a session with the magic command %run."
   ]
  },
  {
   "cell_type": "code",
   "execution_count": null,
   "metadata": {},
   "outputs": [],
   "source": [
    "%run my_first_chart.py"
   ]
  },
  {
   "cell_type": "markdown",
   "metadata": {},
   "source": [
    "#### Converting Your Session to an HTML File"
   ]
  },
  {
   "cell_type": "markdown",
   "metadata": {},
   "source": [
    "Using the IPython QtConsole, you can convert all the code and graphics present in your\n",
    "current session to an HTML page. Simply choose File-->Save to HTML/XHTML from the\n",
    "menu"
   ]
  },
  {
   "cell_type": "markdown",
   "metadata": {},
   "source": [
    "You will be asked to save your session in two different formats: HTML and\n",
    "XHMTL. The difference between the two formats is based on the image conversion type.\n",
    "If you select HTML as the output file format, the images contained in your session will\n",
    "be converted to PNG format. If you select XHTML as the output file format instead, the\n",
    "images will be converted to SVG format."
   ]
  },
  {
   "cell_type": "markdown",
   "metadata": {},
   "source": [
    "By choosing the external option, the images will be collected into a directory called\n",
    "my_session_files. By choosing inline, the graphical information concerning the image\n",
    "is embedded into the HTML code."
   ]
  },
  {
   "cell_type": "markdown",
   "metadata": {},
   "source": [
    "#### Saving Your Chart Directly as an Image"
   ]
  },
  {
   "cell_type": "markdown",
   "metadata": {},
   "source": [
    "If you are interested in saving only the figure of a chart as an image file, ignoring all\n",
    "the code you’ve written during the session, this is also possible. In fact, thanks to\n",
    "the savefig() function, you can directly save the chart in a PNG format, although\n",
    "you should take care to add this function to the end of the same series of commands\n",
    "(otherwise you’ll get a blank PNG file)."
   ]
  },
  {
   "cell_type": "code",
   "execution_count": null,
   "metadata": {},
   "outputs": [],
   "source": [
    "plt.axis([0,5,0,20])\n",
    "plt.title('My first plot',fontsize=20,fontname='Times New Roman')\n",
    "plt.xlabel('Counting',color='gray')\n",
    "plt.ylabel('Square values',color='gray')\n",
    "plt.text(1,1.5,'First')\n",
    "plt.text(2,4.5,'Second')\n",
    "plt.text(3,9.5,'Third')\n",
    "plt.text(4,16.5,'Fourth')\n",
    "plt.text(1.1,12,'$y = x^2$',fontsize=20,bbox={'facecolor':'yellow','alpha':0.2})\n",
    "plt.grid(True)\n",
    "plt.plot([1,2,3,4],[1,4,9,16],'ro')\n",
    "plt.plot([1,2,3,4],[0.8,3.5,8,15],'g^')\n",
    "plt.plot([1,2,3,4],[0.5,2.5,4,12],'b*')\n",
    "plt.legend(['First series','Second series','Third series'],loc=2)\n",
    "plt.savefig('my_chart.png')"
   ]
  },
  {
   "cell_type": "markdown",
   "metadata": {},
   "source": [
    "Executing the previous code, a new file will be created in your working directory.\n",
    "This file will be named my_chart.png and will contain the image of your chart."
   ]
  },
  {
   "cell_type": "markdown",
   "metadata": {},
   "source": [
    "#### Handling Date Values"
   ]
  },
  {
   "cell_type": "markdown",
   "metadata": {},
   "source": [
    "One of the most common problems encountered when doing data analysis is handling\n",
    "data of the date-time type. Displaying that data along an axis (normally the x-axis) can be\n",
    "problematic, especially when managing ticks\n",
    "\n",
    "Take for example the display of a linear chart with a dataset of eight points in which\n",
    "you have to represent date values on the x-axis with the following format: day-month-year."
   ]
  },
  {
   "cell_type": "code",
   "execution_count": null,
   "metadata": {},
   "outputs": [],
   "source": [
    "import datetime\n",
    "import numpy as np\n",
    "import matplotlib.pyplot as plt\n",
    "\n",
    "events = [datetime.date(2015,1,23),datetime.\n",
    "date(2015,1,28),datetime.date(2015,2,3),datetime.\n",
    "date(2015,2,21),datetime.date(2015,3,15),datetime.\n",
    "date(2015,3,24),datetime.date(2015,4,8),datetime.date(2015,4,24)]\n",
    "readings = [12,22,25,20,18,15,17,14]\n",
    "plt.plot(events,readings)"
   ]
  },
  {
   "cell_type": "markdown",
   "metadata": {},
   "source": [
    "As you can see in Figure 7-24, automatic management of ticks, and especially the\n",
    "tick labels, can be a disaster. The dates expressed in this way are difficult to read,\n",
    "there are no clear time intervals elapsed between one point and another, and there is\n",
    "also overlap."
   ]
  },
  {
   "cell_type": "markdown",
   "metadata": {},
   "source": [
    "To manage dates it is therefore advisable to define a time scale with appropriate\n",
    "objects. First you need to import matplotlib.dates, a module specialized for this type\n",
    "of data. Then you define the scales of the times, as in this case, a scale of days and one of\n",
    "the months, through the MonthLocator() and DayLocator() functions. In these cases,\n",
    "the formatting is also very important, and to avoid overlap or unnecessary references,\n",
    "you have to limit the tick labels to the essential, which in this case is year-month. This\n",
    "format can be passed as an argument to the DateFormatter() function.\n",
    "\n",
    "After you defined the two scales, one for the days and one for the months, you can\n",
    "set two different kinds of ticks on the x-axis, using the set_major_locator() and set_\n",
    "minor_locator() functions on the xaxis object. Instead, to set the text format of the tick\n",
    "labels referred to the months you have to use the set_major_formatter() function."
   ]
  },
  {
   "cell_type": "code",
   "execution_count": null,
   "metadata": {},
   "outputs": [],
   "source": [
    "import datetime\n",
    "import numpy as np\n",
    "import matplotlib.pyplot as plt\n",
    "import matplotlib.dates as mdates\n",
    "\n",
    "months = mdates.MonthLocator()\n",
    "days = mdates.DayLocator()\n",
    "timeFmt = mdates.DateFormatter('%Y-%m')\n",
    "events = [datetime.date(2015,1,23),datetime.\n",
    "\n",
    "date(2015,1,28),datetime.date(2015,2,3),datetime.\n",
    "date(2015,2,21),datetime.date(2015,3,15),datetime.\n",
    "date(2015,3,24),datetime.date(2015,4,8),datetime.date(2015,4,24)]\n",
    "readings = [12,22,25,20,18,15,17,14]\n",
    "fig, ax = plt.subplots()\n",
    "plt.plot(events,readings)\n",
    "ax.xaxis.set_major_locator(months)\n",
    "ax.xaxis.set_major_formatter(timeFmt)\n",
    "ax.xaxis.set_minor_locator(days)"
   ]
  },
  {
   "cell_type": "markdown",
   "metadata": {},
   "source": [
    "#### Chart Typology"
   ]
  },
  {
   "cell_type": "markdown",
   "metadata": {},
   "source": [
    "In the previous sections you saw a number of examples relating to the architecture of the\n",
    "matplotlib library. Now that you are familiar with the use of the main graphic elements\n",
    "in a chart, it is time to see a series of examples treating different types of charts, starting\n",
    "from the most common ones such as linear charts, bar charts, and pie charts, up to a\n",
    "discussion about some that are more sophisticated but commonly used nonetheless.\n",
    "\n",
    "This part of the chapter is very important since the purpose of this library is the\n",
    "visualization of the results produced by data analysis. Thus, knowing how to choose the\n",
    "proper type of chart is a fundamental choice. Remember that excellent data analysis\n",
    "represented incorrectly can lead to a wrong interpretation of the experimental results."
   ]
  },
  {
   "cell_type": "markdown",
   "metadata": {},
   "source": [
    "#### Line Charts"
   ]
  },
  {
   "cell_type": "markdown",
   "metadata": {},
   "source": [
    "Among all the chart types, the linear chart is the simplest. A line chart is a sequence of\n",
    "data points connected by a line. Each data point consists of a pair of values (x,y), which\n",
    "will be reported in the chart according to the scale of values of the two axes (x and y).\n",
    "\n",
    "By way of example, you can begin to plot the points generated by a mathematical\n",
    "function. Then, you can consider a generic mathematical function such as this:\n",
    "\n",
    "y = sin (3 * x) / x\n",
    "\n",
    "Therefore, if you want to create a sequence of data points, you need to create two\n",
    "NumPy arrays. First you create an array containing the x values to be referred to the\n",
    "x-axis. In order to define a sequence of increasing values you will use the np.arange()\n",
    "function. Since the function is sinusoidal you should refer to values that are multiples\n",
    "and submultiples of the Greek pi (np.pi). Then, using these sequence of values, you can\n",
    "obtain the y values applying the np.sin() function directly to these values (thanks to\n",
    "NumPy!)."
   ]
  },
  {
   "cell_type": "code",
   "execution_count": null,
   "metadata": {},
   "outputs": [],
   "source": [
    "import matplotlib.pyplot as plt\n",
    "import numpy as np\n",
    "\n",
    "x = np.arange(-2*np.pi,2*np.pi,0.01)\n",
    "y = np.sin(3*x)/x\n",
    "plt.plot(x,y)"
   ]
  },
  {
   "cell_type": "markdown",
   "metadata": {},
   "source": [
    "Now you can extend the case in which you want to display a family of functions, such\n",
    "as this:\n",
    "\n",
    "y = sin (n * x) / x\n",
    "\n",
    "varying the parameter n."
   ]
  },
  {
   "cell_type": "code",
   "execution_count": null,
   "metadata": {},
   "outputs": [],
   "source": [
    "import matplotlib.pyplot as plt\n",
    "import numpy as np\n",
    "\n",
    "x = np.arange(-2*np.pi,2*np.pi,0.01)\n",
    "y = np.sin(3*x)/x\n",
    "y2 = np.sin(2*x)/x\n",
    "y3 = np.sin(3*x)/x\n",
    "\n",
    "plt.plot(x,y)\n",
    "plt.plot(x,y2)\n",
    "plt.plot(x,y3)"
   ]
  },
  {
   "cell_type": "markdown",
   "metadata": {},
   "source": [
    "As you can see in Figure 7-27, a different color is automatically assigned to each line.\n",
    "All the plots are represented on the same scale; that is, the data points of each series refer\n",
    "to the same x-axis and y-axis. This is because each call of the plot() function takes into\n",
    "account the previous calls to same function, so the Figure applies the changes keeping\n",
    "memory of the previous commands until the Figure is not displayed (using show() with\n",
    "Python and Enter with the IPython QtConsole).\n",
    "\n",
    "As you saw in the previous sections, regardless of the default settings, you can select\n",
    "the type of stroke, color, etc. As the third argument of the plot() function you can\n",
    "specify some codes that correspond to the color (see Table 7-2) and other codes that\n",
    "correspond to line styles, all included in the same string. Another possibility is to use\n",
    "two kwargs separately, color to define the color, and linestyle to define the stroke"
   ]
  },
  {
   "cell_type": "code",
   "execution_count": null,
   "metadata": {},
   "outputs": [],
   "source": [
    "import matplotlib.pyplot as plt\n",
    "import numpy as np\n",
    "\n",
    "x = np.arange(-2*np.pi,2*np.pi,0.01)\n",
    "y = np.sin(3*x)/x\n",
    "y2 = np.sin(2*x)/x\n",
    "y3 = np.sin(3*x)/x\n",
    "\n",
    "plt.plot(x,y,'k--',linewidth=3)\n",
    "plt.plot(x,y2,'m-.')\n",
    "plt.plot(x,y3,color='#87a3cc',linestyle='--')"
   ]
  },
  {
   "cell_type": "markdown",
   "metadata": {},
   "source": [
    "Color Codes\n",
    "\n",
    "|Code | Color|\n",
    "|---|---|\n",
    "|b | blue|\n",
    "|g | green|\n",
    "|r | red|\n",
    "|c | cyan|\n",
    "|m | magenta|\n",
    "|y | yellow|\n",
    "|k | black|\n",
    "|w | white|"
   ]
  },
  {
   "cell_type": "markdown",
   "metadata": {},
   "source": [
    "You have just defined a range from -2π to 2π on the x-axis, but by default, values on\n",
    "ticks are shown in numerical form. Therefore you need to replace the numerical values\n",
    "with multiple of π. You can also replace the ticks on the y-axis. To do all this, you have to\n",
    "use xticks() and yticks() functions, passing to each of them two lists of values. The\n",
    "first list contains values corresponding to the positions where the ticks are to be placed,\n",
    "and the second contains the tick labels. In this particular case, you have to use strings\n",
    "containing LaTeX format in order to correctly display the symbol π. Remember to define\n",
    "them within two $ characters and to add a r as the prefix."
   ]
  },
  {
   "cell_type": "code",
   "execution_count": null,
   "metadata": {},
   "outputs": [],
   "source": [
    "import matplotlib.pyplot as plt\n",
    "import numpy as np\n",
    "\n",
    "x = np.arange(-2*np.pi,2*np.pi,0.01)\n",
    "y = np.sin(3*x)/x\n",
    "y2 = np.sin(2*x)/x\n",
    "y3 = np.sin(x)/x\n",
    "\n",
    "plt.plot(x,y,color='b')\n",
    "plt.plot(x,y2,color='r')\n",
    "plt.plot(x,y3,color='g')\n",
    "plt.xticks([-2*np.pi, -np.pi, 0, np.pi, 2*np.pi],\n",
    "           [r'$-2\\pi$',r'$-\\pi$',r'$0$',r'$+\\pi$',r'$+2\\pi$'])\n",
    "plt.yticks([-1,0,1,2,3],\n",
    "           [r'$-1$',r'$0$',r'$+1$',r'$+2$',r'$+3$'])"
   ]
  },
  {
   "cell_type": "markdown",
   "metadata": {},
   "source": [
    "In all the linear charts you have seen so far, you always have the x-axis and y-axis\n",
    "placed at the edge of the figure (corresponding to the sides of the bounding border box).\n",
    "Another way of displaying axes is to have the two axes passing through the origin (0, 0),\n",
    "i.e., the two Cartesian axes.\n",
    "\n",
    "To do this, you must first capture the Axes object through the gca() function. Then\n",
    "through this object, you can select each of the four sides making up the bounding box,\n",
    "specifying for each one its position: right, left, bottom, and top. Crop the sides that do not\n",
    "match any axis (right and bottom) using the set_color() function and indicating none\n",
    "for color. Then, the sides corresponding to the x- and y-axes are moved to pass through\n",
    "the origin (0,0) with the set_position() function."
   ]
  },
  {
   "cell_type": "markdown",
   "metadata": {},
   "source": []
  },
  {
   "cell_type": "markdown",
   "metadata": {},
   "source": []
  },
  {
   "attachments": {},
   "cell_type": "markdown",
   "metadata": {},
   "source": [
    "### Fim."
   ]
  }
 ],
 "metadata": {
  "kernelspec": {
   "display_name": "Python 3",
   "language": "python",
   "name": "python3"
  },
  "language_info": {
   "codemirror_mode": {
    "name": "ipython",
    "version": 3
   },
   "file_extension": ".py",
   "mimetype": "text/x-python",
   "name": "python",
   "nbconvert_exporter": "python",
   "pygments_lexer": "ipython3",
   "version": "3.10.5"
  },
  "orig_nbformat": 4
 },
 "nbformat": 4,
 "nbformat_minor": 2
}
