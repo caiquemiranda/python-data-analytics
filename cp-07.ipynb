{
 "cells": [
  {
   "cell_type": "markdown",
   "metadata": {},
   "source": [
    "### Estudos Miranda: Curso intensivo em Python e SciPy"
   ]
  },
  {
   "cell_type": "code",
   "execution_count": null,
   "metadata": {},
   "outputs": [],
   "source": [
    "%reload_ext watermark\n",
    "%watermark -a \"Caique Miranda\" -gu \"caiquemiranda\" -iv"
   ]
  },
  {
   "cell_type": "markdown",
   "metadata": {},
   "source": [
    "### Data Visualization with matplotlib"
   ]
  },
  {
   "cell_type": "markdown",
   "metadata": {},
   "source": [
    "After discussing in the previous chapters Python libraries that were responsible for data\n",
    "processing, now it is time for you to see a library that takes care of visualization. This\n",
    "library is matplotlib.\n",
    "\n",
    "\n",
    "Data visualization is often underestimated in data analysis, but it is actually a\n",
    "very important factor because incorrect or inefficient data representation can ruin an\n",
    "otherwise excellent analysis. In this chapter, you will discover the various aspects of the\n",
    "matplotlib library, including how it is structured, and how to maximize the potential that\n",
    "it offers."
   ]
  },
  {
   "cell_type": "markdown",
   "metadata": {},
   "source": [
    "#### The matplotlib Library"
   ]
  },
  {
   "cell_type": "markdown",
   "metadata": {},
   "source": [
    "matplotlib is a Python library specializing in the development of two-dimensional\n",
    "charts (including 3D charts). In recent years, it has been widespread in scientific and\n",
    "engineering circles (http://matplolib.org).\n",
    "\n",
    "Among all the features that have made it the most used tool in the graphical\n",
    "representation of data, there are a few that stand out:\n",
    "\n",
    "• Extreme simplicity in its use\n",
    "• Gradual development and interactive data visualization\n",
    "• Expressions and text in LaTeX\n",
    "• Greater control over graphic elements\n",
    "• Export to many formats, such as PNG, PDF, SVG, and EPS\n",
    "\n",
    "matplotlib is designed to reproduce as much as possible an environment similar to\n",
    "MATLAB in terms of both graphical view and syntactic form. This approach has proved\n",
    "successful, as it has been able to exploit the experience of software (MATLAB) that has\n",
    "been on the market for several years and is now widespread in all professional technical-scientific\n",
    "circles. Not only is matplotlib based on a scheme known and quite familiar\n",
    "to most experts in the field, but also it also exploits those optimizations that over the\n",
    "years have led to a deducibility and simplicity in its use, which makes this library also\n",
    "an excellent choice for those approaching data visualization for the first time, especially\n",
    "those without any experience with applications such as MATLAB or similar."
   ]
  },
  {
   "cell_type": "markdown",
   "metadata": {},
   "source": [
    "In addition to simplicity and deducibility, the matplotlib library inherited\n",
    "interactivity from MATLAB as well. That is, the analyst can insert command after\n",
    "command to control the gradual development of a graphical representation of data.\n",
    "This mode is well suited to the more interactive approaches of Python as the IPython\n",
    "QtConsole and IPython Notebook (see Chapter 2), thus providing an environment\n",
    "for data analysis that has little to envy from other tools such as Mathematica, IDL, or\n",
    "MATLAB."
   ]
  },
  {
   "cell_type": "markdown",
   "metadata": {},
   "source": [
    "The genius of those who developed this beautiful library was to use and incorporate\n",
    "the good things currently available and in use in science. This is not only limited, as we\n",
    "have seen, to the operating mode of MATLAB and similar, but also to models of textual\n",
    "formatting of scientific expressions and symbols represented by LaTeX. Because of its\n",
    "great capacity for display and presentation of scientific expressions, LaTeX has been an\n",
    "irreplaceable element in any scientific publication or documentation, where the need to\n",
    "visually represent expressions like integrals, summations, and derivatives is mandatory.\n",
    "Therefore matplotlib integrates this remarkable instrument in order to improve the\n",
    "representative capacity of charts."
   ]
  },
  {
   "cell_type": "markdown",
   "metadata": {},
   "source": [
    "In addition, you must not forget that matplotlib is not a separate application but\n",
    "a library of a programming language like Python. So it also takes full advantage of the\n",
    "potential that programming languages offer. matplotlib looks like a graphics library\n",
    "that allows you to programmatically manage the graphic elements that make up a chart\n",
    "so that the graphical display can be controlled in its entirety. The ability to program\n",
    "the graphical representation allows management of the reproducibility of the data\n",
    "representation across multiple environments and especially when you make changes or\n",
    "when the data is updated."
   ]
  },
  {
   "cell_type": "markdown",
   "metadata": {},
   "source": [
    "Moreover, since matplotlib is a Python library, it allows you to exploit the full\n",
    "potential of other libraries available to any developer that implements with this\n",
    "language. In fact, with regard to data analysis, matplotlib normally cooperates with a set\n",
    "of other libraries such as NumPy and pandas, but many other libraries can be integrated\n",
    "without any problem."
   ]
  },
  {
   "cell_type": "markdown",
   "metadata": {},
   "source": [
    "Finally, graphical representations obtained through encoding with this library can be\n",
    "exported in the most common graphic formats (such as PNG and SVG) and then be used\n",
    "in other applications, documentation, web pages, etc."
   ]
  },
  {
   "cell_type": "markdown",
   "metadata": {},
   "source": [
    "#### The IPython and IPython QtConsole"
   ]
  },
  {
   "cell_type": "markdown",
   "metadata": {},
   "source": []
  },
  {
   "cell_type": "markdown",
   "metadata": {},
   "source": []
  },
  {
   "attachments": {},
   "cell_type": "markdown",
   "metadata": {},
   "source": [
    "### Fim."
   ]
  }
 ],
 "metadata": {
  "language_info": {
   "name": "python"
  },
  "orig_nbformat": 4
 },
 "nbformat": 4,
 "nbformat_minor": 2
}
